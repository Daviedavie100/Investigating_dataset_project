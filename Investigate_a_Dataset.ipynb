{
 "cells": [
  {
   "cell_type": "markdown",
   "metadata": {},
   "source": [
    "# Project: Investigate a Dataset - [Database_soccer]\n",
    "\n",
    "## Table of Contents\n",
    "<ul>\n",
    "<li><a href=\"#intro\">Introduction</a></li>\n",
    "<li><a href=\"#wrangling\">Data Wrangling</a></li>\n",
    "<li><a href=\"#eda\">Exploratory Data Analysis</a></li>\n",
    "<li><a href=\"#conclusions\">Conclusions</a></li>\n",
    "</ul>"
   ]
  },
  {
   "cell_type": "markdown",
   "metadata": {},
   "source": [
    "<a id='intro'></a>\n",
    "## Introduction\n",
    "\n",
    "### Dataset Description \n",
    "\n",
    "> In this project 1, I willl be analysing ultimate soccer dataset, which is an open-source dataset in kaggle. The dataset is a one .sql file comprising seven tables, each with different(unique) but interrelated features. First, Country table has 11 European countries. Second, league table has 11 lead championship names. The country and league tables are related by their ID. Third, match table has over 25, 000 matches for different seasons as well as betting odds from upto 10 providers. The match table is also related to the previous tables by country_id. in the rows and 2 columns id and name\n",
    "I have check the shape of table to determine the nummber of rows and columns.\n",
    "\n",
    "\n",
    "### Question(s) for Analysis\n",
    "1. What teams improved the most over the time period? \n",
    "2. Which players had the most penalties? \n",
    "3. Which was the the most preferred leg for penalty-takers in 2016 among the players who scored more than the mean penalties in that year?"
   ]
  },
  {
   "cell_type": "code",
   "execution_count": 736,
   "metadata": {},
   "outputs": [],
   "source": [
    "# import statements for all of the packages to be used.\n",
    "\n",
    "import pandas as pd\n",
    "import seaborn as sns\n",
    "import matplotlib.pyplot as plt\n",
    "import numpy as np\n",
    "\n",
    "%matplotlib inline"
   ]
  },
  {
   "cell_type": "markdown",
   "metadata": {},
   "source": [
    "I want to create a function that would read csv and load for very dataset to a name variable"
   ]
  },
  {
   "cell_type": "code",
   "execution_count": 737,
   "metadata": {},
   "outputs": [],
   "source": [
    "# creating function to load data\n",
    "path='C:/Users/Davie/Desktop/Data/'\n",
    "def load_data(name, table_name):\n",
    "    name=pd.read_csv(path + 'Database_Soccer/'+ table_name) # reads the csv file and stores in the dataframe name\n",
    "    return name"
   ]
  },
  {
   "cell_type": "markdown",
   "metadata": {},
   "source": [
    "displaying few lines of each dataset from the soccer database"
   ]
  },
  {
   "cell_type": "code",
   "execution_count": 738,
   "metadata": {},
   "outputs": [
    {
     "data": {
      "text/html": [
       "<div>\n",
       "<style scoped>\n",
       "    .dataframe tbody tr th:only-of-type {\n",
       "        vertical-align: middle;\n",
       "    }\n",
       "\n",
       "    .dataframe tbody tr th {\n",
       "        vertical-align: top;\n",
       "    }\n",
       "\n",
       "    .dataframe thead th {\n",
       "        text-align: right;\n",
       "    }\n",
       "</style>\n",
       "<table border=\"1\" class=\"dataframe\">\n",
       "  <thead>\n",
       "    <tr style=\"text-align: right;\">\n",
       "      <th></th>\n",
       "      <th>id</th>\n",
       "      <th>name</th>\n",
       "    </tr>\n",
       "  </thead>\n",
       "  <tbody>\n",
       "    <tr>\n",
       "      <th>0</th>\n",
       "      <td>1</td>\n",
       "      <td>Belgium</td>\n",
       "    </tr>\n",
       "    <tr>\n",
       "      <th>1</th>\n",
       "      <td>1729</td>\n",
       "      <td>England</td>\n",
       "    </tr>\n",
       "    <tr>\n",
       "      <th>2</th>\n",
       "      <td>4769</td>\n",
       "      <td>France</td>\n",
       "    </tr>\n",
       "    <tr>\n",
       "      <th>3</th>\n",
       "      <td>7809</td>\n",
       "      <td>Germany</td>\n",
       "    </tr>\n",
       "    <tr>\n",
       "      <th>4</th>\n",
       "      <td>10257</td>\n",
       "      <td>Italy</td>\n",
       "    </tr>\n",
       "  </tbody>\n",
       "</table>\n",
       "</div>"
      ],
      "text/plain": [
       "      id     name\n",
       "0      1  Belgium\n",
       "1   1729  England\n",
       "2   4769   France\n",
       "3   7809  Germany\n",
       "4  10257    Italy"
      ]
     },
     "execution_count": 738,
     "metadata": {},
     "output_type": "execute_result"
    }
   ],
   "source": [
    "country=load_data('country', 'Country.csv')# country data table\n",
    "country.head()"
   ]
  },
  {
   "cell_type": "code",
   "execution_count": 739,
   "metadata": {},
   "outputs": [
    {
     "data": {
      "text/html": [
       "<div>\n",
       "<style scoped>\n",
       "    .dataframe tbody tr th:only-of-type {\n",
       "        vertical-align: middle;\n",
       "    }\n",
       "\n",
       "    .dataframe tbody tr th {\n",
       "        vertical-align: top;\n",
       "    }\n",
       "\n",
       "    .dataframe thead th {\n",
       "        text-align: right;\n",
       "    }\n",
       "</style>\n",
       "<table border=\"1\" class=\"dataframe\">\n",
       "  <thead>\n",
       "    <tr style=\"text-align: right;\">\n",
       "      <th></th>\n",
       "      <th>id</th>\n",
       "      <th>country_id</th>\n",
       "      <th>name</th>\n",
       "    </tr>\n",
       "  </thead>\n",
       "  <tbody>\n",
       "    <tr>\n",
       "      <th>0</th>\n",
       "      <td>1</td>\n",
       "      <td>1</td>\n",
       "      <td>Belgium Jupiler League</td>\n",
       "    </tr>\n",
       "    <tr>\n",
       "      <th>1</th>\n",
       "      <td>1729</td>\n",
       "      <td>1729</td>\n",
       "      <td>England Premier League</td>\n",
       "    </tr>\n",
       "    <tr>\n",
       "      <th>2</th>\n",
       "      <td>4769</td>\n",
       "      <td>4769</td>\n",
       "      <td>France Ligue 1</td>\n",
       "    </tr>\n",
       "    <tr>\n",
       "      <th>3</th>\n",
       "      <td>7809</td>\n",
       "      <td>7809</td>\n",
       "      <td>Germany 1. Bundesliga</td>\n",
       "    </tr>\n",
       "    <tr>\n",
       "      <th>4</th>\n",
       "      <td>10257</td>\n",
       "      <td>10257</td>\n",
       "      <td>Italy Serie A</td>\n",
       "    </tr>\n",
       "  </tbody>\n",
       "</table>\n",
       "</div>"
      ],
      "text/plain": [
       "      id  country_id                    name\n",
       "0      1           1  Belgium Jupiler League\n",
       "1   1729        1729  England Premier League\n",
       "2   4769        4769          France Ligue 1\n",
       "3   7809        7809   Germany 1. Bundesliga\n",
       "4  10257       10257           Italy Serie A"
      ]
     },
     "execution_count": 739,
     "metadata": {},
     "output_type": "execute_result"
    }
   ],
   "source": [
    "league=load_data('league', 'League.csv')# league data table\n",
    "league.head()"
   ]
  },
  {
   "cell_type": "markdown",
   "metadata": {},
   "source": [
    "From the league name above, the league name for Germany is confusing. Germany 1. could mean there are a number of German countries, so it should be change to Germany Bundesliga 1"
   ]
  },
  {
   "cell_type": "code",
   "execution_count": 740,
   "metadata": {},
   "outputs": [
    {
     "data": {
      "text/html": [
       "<div>\n",
       "<style scoped>\n",
       "    .dataframe tbody tr th:only-of-type {\n",
       "        vertical-align: middle;\n",
       "    }\n",
       "\n",
       "    .dataframe tbody tr th {\n",
       "        vertical-align: top;\n",
       "    }\n",
       "\n",
       "    .dataframe thead th {\n",
       "        text-align: right;\n",
       "    }\n",
       "</style>\n",
       "<table border=\"1\" class=\"dataframe\">\n",
       "  <thead>\n",
       "    <tr style=\"text-align: right;\">\n",
       "      <th></th>\n",
       "      <th>id</th>\n",
       "      <th>country_id</th>\n",
       "      <th>league_id</th>\n",
       "      <th>season</th>\n",
       "      <th>stage</th>\n",
       "      <th>date</th>\n",
       "      <th>match_api_id</th>\n",
       "      <th>home_team_api_id</th>\n",
       "      <th>away_team_api_id</th>\n",
       "      <th>home_team_goal</th>\n",
       "      <th>...</th>\n",
       "      <th>SJA</th>\n",
       "      <th>VCH</th>\n",
       "      <th>VCD</th>\n",
       "      <th>VCA</th>\n",
       "      <th>GBH</th>\n",
       "      <th>GBD</th>\n",
       "      <th>GBA</th>\n",
       "      <th>BSH</th>\n",
       "      <th>BSD</th>\n",
       "      <th>BSA</th>\n",
       "    </tr>\n",
       "  </thead>\n",
       "  <tbody>\n",
       "    <tr>\n",
       "      <th>0</th>\n",
       "      <td>1</td>\n",
       "      <td>1</td>\n",
       "      <td>1</td>\n",
       "      <td>2008/2009</td>\n",
       "      <td>1</td>\n",
       "      <td>2008-08-17 00:00:00</td>\n",
       "      <td>492473</td>\n",
       "      <td>9987</td>\n",
       "      <td>9993</td>\n",
       "      <td>1</td>\n",
       "      <td>...</td>\n",
       "      <td>4.00</td>\n",
       "      <td>1.65</td>\n",
       "      <td>3.40</td>\n",
       "      <td>4.50</td>\n",
       "      <td>1.78</td>\n",
       "      <td>3.25</td>\n",
       "      <td>4.00</td>\n",
       "      <td>1.73</td>\n",
       "      <td>3.40</td>\n",
       "      <td>4.20</td>\n",
       "    </tr>\n",
       "    <tr>\n",
       "      <th>1</th>\n",
       "      <td>2</td>\n",
       "      <td>1</td>\n",
       "      <td>1</td>\n",
       "      <td>2008/2009</td>\n",
       "      <td>1</td>\n",
       "      <td>2008-08-16 00:00:00</td>\n",
       "      <td>492474</td>\n",
       "      <td>10000</td>\n",
       "      <td>9994</td>\n",
       "      <td>0</td>\n",
       "      <td>...</td>\n",
       "      <td>3.80</td>\n",
       "      <td>2.00</td>\n",
       "      <td>3.25</td>\n",
       "      <td>3.25</td>\n",
       "      <td>1.85</td>\n",
       "      <td>3.25</td>\n",
       "      <td>3.75</td>\n",
       "      <td>1.91</td>\n",
       "      <td>3.25</td>\n",
       "      <td>3.60</td>\n",
       "    </tr>\n",
       "    <tr>\n",
       "      <th>2</th>\n",
       "      <td>3</td>\n",
       "      <td>1</td>\n",
       "      <td>1</td>\n",
       "      <td>2008/2009</td>\n",
       "      <td>1</td>\n",
       "      <td>2008-08-16 00:00:00</td>\n",
       "      <td>492475</td>\n",
       "      <td>9984</td>\n",
       "      <td>8635</td>\n",
       "      <td>0</td>\n",
       "      <td>...</td>\n",
       "      <td>2.50</td>\n",
       "      <td>2.35</td>\n",
       "      <td>3.25</td>\n",
       "      <td>2.65</td>\n",
       "      <td>2.50</td>\n",
       "      <td>3.20</td>\n",
       "      <td>2.50</td>\n",
       "      <td>2.30</td>\n",
       "      <td>3.20</td>\n",
       "      <td>2.75</td>\n",
       "    </tr>\n",
       "    <tr>\n",
       "      <th>3</th>\n",
       "      <td>4</td>\n",
       "      <td>1</td>\n",
       "      <td>1</td>\n",
       "      <td>2008/2009</td>\n",
       "      <td>1</td>\n",
       "      <td>2008-08-17 00:00:00</td>\n",
       "      <td>492476</td>\n",
       "      <td>9991</td>\n",
       "      <td>9998</td>\n",
       "      <td>5</td>\n",
       "      <td>...</td>\n",
       "      <td>7.50</td>\n",
       "      <td>1.45</td>\n",
       "      <td>3.75</td>\n",
       "      <td>6.50</td>\n",
       "      <td>1.50</td>\n",
       "      <td>3.75</td>\n",
       "      <td>5.50</td>\n",
       "      <td>1.44</td>\n",
       "      <td>3.75</td>\n",
       "      <td>6.50</td>\n",
       "    </tr>\n",
       "    <tr>\n",
       "      <th>4</th>\n",
       "      <td>5</td>\n",
       "      <td>1</td>\n",
       "      <td>1</td>\n",
       "      <td>2008/2009</td>\n",
       "      <td>1</td>\n",
       "      <td>2008-08-16 00:00:00</td>\n",
       "      <td>492477</td>\n",
       "      <td>7947</td>\n",
       "      <td>9985</td>\n",
       "      <td>1</td>\n",
       "      <td>...</td>\n",
       "      <td>1.73</td>\n",
       "      <td>4.50</td>\n",
       "      <td>3.40</td>\n",
       "      <td>1.65</td>\n",
       "      <td>4.50</td>\n",
       "      <td>3.50</td>\n",
       "      <td>1.65</td>\n",
       "      <td>4.75</td>\n",
       "      <td>3.30</td>\n",
       "      <td>1.67</td>\n",
       "    </tr>\n",
       "  </tbody>\n",
       "</table>\n",
       "<p>5 rows × 115 columns</p>\n",
       "</div>"
      ],
      "text/plain": [
       "   id  country_id  league_id     season  stage                 date  \\\n",
       "0   1           1          1  2008/2009      1  2008-08-17 00:00:00   \n",
       "1   2           1          1  2008/2009      1  2008-08-16 00:00:00   \n",
       "2   3           1          1  2008/2009      1  2008-08-16 00:00:00   \n",
       "3   4           1          1  2008/2009      1  2008-08-17 00:00:00   \n",
       "4   5           1          1  2008/2009      1  2008-08-16 00:00:00   \n",
       "\n",
       "   match_api_id  home_team_api_id  away_team_api_id  home_team_goal  ...  \\\n",
       "0        492473              9987              9993               1  ...   \n",
       "1        492474             10000              9994               0  ...   \n",
       "2        492475              9984              8635               0  ...   \n",
       "3        492476              9991              9998               5  ...   \n",
       "4        492477              7947              9985               1  ...   \n",
       "\n",
       "    SJA   VCH   VCD   VCA   GBH   GBD   GBA   BSH   BSD   BSA  \n",
       "0  4.00  1.65  3.40  4.50  1.78  3.25  4.00  1.73  3.40  4.20  \n",
       "1  3.80  2.00  3.25  3.25  1.85  3.25  3.75  1.91  3.25  3.60  \n",
       "2  2.50  2.35  3.25  2.65  2.50  3.20  2.50  2.30  3.20  2.75  \n",
       "3  7.50  1.45  3.75  6.50  1.50  3.75  5.50  1.44  3.75  6.50  \n",
       "4  1.73  4.50  3.40  1.65  4.50  3.50  1.65  4.75  3.30  1.67  \n",
       "\n",
       "[5 rows x 115 columns]"
      ]
     },
     "execution_count": 740,
     "metadata": {},
     "output_type": "execute_result"
    }
   ],
   "source": [
    "match=load_data('match', 'Match.csv')# match data table\n",
    "match.head()"
   ]
  },
  {
   "cell_type": "markdown",
   "metadata": {},
   "source": [
    "missing data in match table"
   ]
  },
  {
   "cell_type": "code",
   "execution_count": 741,
   "metadata": {},
   "outputs": [
    {
     "data": {
      "text/html": [
       "<div>\n",
       "<style scoped>\n",
       "    .dataframe tbody tr th:only-of-type {\n",
       "        vertical-align: middle;\n",
       "    }\n",
       "\n",
       "    .dataframe tbody tr th {\n",
       "        vertical-align: top;\n",
       "    }\n",
       "\n",
       "    .dataframe thead th {\n",
       "        text-align: right;\n",
       "    }\n",
       "</style>\n",
       "<table border=\"1\" class=\"dataframe\">\n",
       "  <thead>\n",
       "    <tr style=\"text-align: right;\">\n",
       "      <th></th>\n",
       "      <th>id</th>\n",
       "      <th>player_api_id</th>\n",
       "      <th>player_name</th>\n",
       "      <th>player_fifa_api_id</th>\n",
       "      <th>birthday</th>\n",
       "      <th>height</th>\n",
       "      <th>weight</th>\n",
       "    </tr>\n",
       "  </thead>\n",
       "  <tbody>\n",
       "    <tr>\n",
       "      <th>0</th>\n",
       "      <td>1</td>\n",
       "      <td>505942</td>\n",
       "      <td>Aaron Appindangoye</td>\n",
       "      <td>218353</td>\n",
       "      <td>1992-02-29 00:00:00</td>\n",
       "      <td>182.88</td>\n",
       "      <td>187</td>\n",
       "    </tr>\n",
       "    <tr>\n",
       "      <th>1</th>\n",
       "      <td>2</td>\n",
       "      <td>155782</td>\n",
       "      <td>Aaron Cresswell</td>\n",
       "      <td>189615</td>\n",
       "      <td>1989-12-15 00:00:00</td>\n",
       "      <td>170.18</td>\n",
       "      <td>146</td>\n",
       "    </tr>\n",
       "    <tr>\n",
       "      <th>2</th>\n",
       "      <td>3</td>\n",
       "      <td>162549</td>\n",
       "      <td>Aaron Doran</td>\n",
       "      <td>186170</td>\n",
       "      <td>1991-05-13 00:00:00</td>\n",
       "      <td>170.18</td>\n",
       "      <td>163</td>\n",
       "    </tr>\n",
       "    <tr>\n",
       "      <th>3</th>\n",
       "      <td>4</td>\n",
       "      <td>30572</td>\n",
       "      <td>Aaron Galindo</td>\n",
       "      <td>140161</td>\n",
       "      <td>1982-05-08 00:00:00</td>\n",
       "      <td>182.88</td>\n",
       "      <td>198</td>\n",
       "    </tr>\n",
       "    <tr>\n",
       "      <th>4</th>\n",
       "      <td>5</td>\n",
       "      <td>23780</td>\n",
       "      <td>Aaron Hughes</td>\n",
       "      <td>17725</td>\n",
       "      <td>1979-11-08 00:00:00</td>\n",
       "      <td>182.88</td>\n",
       "      <td>154</td>\n",
       "    </tr>\n",
       "  </tbody>\n",
       "</table>\n",
       "</div>"
      ],
      "text/plain": [
       "   id  player_api_id         player_name  player_fifa_api_id  \\\n",
       "0   1         505942  Aaron Appindangoye              218353   \n",
       "1   2         155782     Aaron Cresswell              189615   \n",
       "2   3         162549         Aaron Doran              186170   \n",
       "3   4          30572       Aaron Galindo              140161   \n",
       "4   5          23780        Aaron Hughes               17725   \n",
       "\n",
       "              birthday  height  weight  \n",
       "0  1992-02-29 00:00:00  182.88     187  \n",
       "1  1989-12-15 00:00:00  170.18     146  \n",
       "2  1991-05-13 00:00:00  170.18     163  \n",
       "3  1982-05-08 00:00:00  182.88     198  \n",
       "4  1979-11-08 00:00:00  182.88     154  "
      ]
     },
     "execution_count": 741,
     "metadata": {},
     "output_type": "execute_result"
    }
   ],
   "source": [
    "player=load_data('player', 'Player.csv')# player data table\n",
    "player.head()"
   ]
  },
  {
   "cell_type": "markdown",
   "metadata": {},
   "source": [
    "The birthday contains time at 00:00:00, which could be removed to contain only year, month and date"
   ]
  },
  {
   "cell_type": "code",
   "execution_count": 742,
   "metadata": {},
   "outputs": [
    {
     "data": {
      "text/html": [
       "<div>\n",
       "<style scoped>\n",
       "    .dataframe tbody tr th:only-of-type {\n",
       "        vertical-align: middle;\n",
       "    }\n",
       "\n",
       "    .dataframe tbody tr th {\n",
       "        vertical-align: top;\n",
       "    }\n",
       "\n",
       "    .dataframe thead th {\n",
       "        text-align: right;\n",
       "    }\n",
       "</style>\n",
       "<table border=\"1\" class=\"dataframe\">\n",
       "  <thead>\n",
       "    <tr style=\"text-align: right;\">\n",
       "      <th></th>\n",
       "      <th>id</th>\n",
       "      <th>player_fifa_api_id</th>\n",
       "      <th>player_api_id</th>\n",
       "      <th>date</th>\n",
       "      <th>overall_rating</th>\n",
       "      <th>potential</th>\n",
       "      <th>preferred_foot</th>\n",
       "      <th>attacking_work_rate</th>\n",
       "      <th>defensive_work_rate</th>\n",
       "      <th>crossing</th>\n",
       "      <th>...</th>\n",
       "      <th>vision</th>\n",
       "      <th>penalties</th>\n",
       "      <th>marking</th>\n",
       "      <th>standing_tackle</th>\n",
       "      <th>sliding_tackle</th>\n",
       "      <th>gk_diving</th>\n",
       "      <th>gk_handling</th>\n",
       "      <th>gk_kicking</th>\n",
       "      <th>gk_positioning</th>\n",
       "      <th>gk_reflexes</th>\n",
       "    </tr>\n",
       "  </thead>\n",
       "  <tbody>\n",
       "    <tr>\n",
       "      <th>0</th>\n",
       "      <td>1</td>\n",
       "      <td>218353</td>\n",
       "      <td>505942</td>\n",
       "      <td>2016-02-18 00:00:00</td>\n",
       "      <td>67.0</td>\n",
       "      <td>71.0</td>\n",
       "      <td>right</td>\n",
       "      <td>medium</td>\n",
       "      <td>medium</td>\n",
       "      <td>49.0</td>\n",
       "      <td>...</td>\n",
       "      <td>54.0</td>\n",
       "      <td>48.0</td>\n",
       "      <td>65.0</td>\n",
       "      <td>69.0</td>\n",
       "      <td>69.0</td>\n",
       "      <td>6.0</td>\n",
       "      <td>11.0</td>\n",
       "      <td>10.0</td>\n",
       "      <td>8.0</td>\n",
       "      <td>8.0</td>\n",
       "    </tr>\n",
       "    <tr>\n",
       "      <th>1</th>\n",
       "      <td>2</td>\n",
       "      <td>218353</td>\n",
       "      <td>505942</td>\n",
       "      <td>2015-11-19 00:00:00</td>\n",
       "      <td>67.0</td>\n",
       "      <td>71.0</td>\n",
       "      <td>right</td>\n",
       "      <td>medium</td>\n",
       "      <td>medium</td>\n",
       "      <td>49.0</td>\n",
       "      <td>...</td>\n",
       "      <td>54.0</td>\n",
       "      <td>48.0</td>\n",
       "      <td>65.0</td>\n",
       "      <td>69.0</td>\n",
       "      <td>69.0</td>\n",
       "      <td>6.0</td>\n",
       "      <td>11.0</td>\n",
       "      <td>10.0</td>\n",
       "      <td>8.0</td>\n",
       "      <td>8.0</td>\n",
       "    </tr>\n",
       "    <tr>\n",
       "      <th>2</th>\n",
       "      <td>3</td>\n",
       "      <td>218353</td>\n",
       "      <td>505942</td>\n",
       "      <td>2015-09-21 00:00:00</td>\n",
       "      <td>62.0</td>\n",
       "      <td>66.0</td>\n",
       "      <td>right</td>\n",
       "      <td>medium</td>\n",
       "      <td>medium</td>\n",
       "      <td>49.0</td>\n",
       "      <td>...</td>\n",
       "      <td>54.0</td>\n",
       "      <td>48.0</td>\n",
       "      <td>65.0</td>\n",
       "      <td>66.0</td>\n",
       "      <td>69.0</td>\n",
       "      <td>6.0</td>\n",
       "      <td>11.0</td>\n",
       "      <td>10.0</td>\n",
       "      <td>8.0</td>\n",
       "      <td>8.0</td>\n",
       "    </tr>\n",
       "    <tr>\n",
       "      <th>3</th>\n",
       "      <td>4</td>\n",
       "      <td>218353</td>\n",
       "      <td>505942</td>\n",
       "      <td>2015-03-20 00:00:00</td>\n",
       "      <td>61.0</td>\n",
       "      <td>65.0</td>\n",
       "      <td>right</td>\n",
       "      <td>medium</td>\n",
       "      <td>medium</td>\n",
       "      <td>48.0</td>\n",
       "      <td>...</td>\n",
       "      <td>53.0</td>\n",
       "      <td>47.0</td>\n",
       "      <td>62.0</td>\n",
       "      <td>63.0</td>\n",
       "      <td>66.0</td>\n",
       "      <td>5.0</td>\n",
       "      <td>10.0</td>\n",
       "      <td>9.0</td>\n",
       "      <td>7.0</td>\n",
       "      <td>7.0</td>\n",
       "    </tr>\n",
       "    <tr>\n",
       "      <th>4</th>\n",
       "      <td>5</td>\n",
       "      <td>218353</td>\n",
       "      <td>505942</td>\n",
       "      <td>2007-02-22 00:00:00</td>\n",
       "      <td>61.0</td>\n",
       "      <td>65.0</td>\n",
       "      <td>right</td>\n",
       "      <td>medium</td>\n",
       "      <td>medium</td>\n",
       "      <td>48.0</td>\n",
       "      <td>...</td>\n",
       "      <td>53.0</td>\n",
       "      <td>47.0</td>\n",
       "      <td>62.0</td>\n",
       "      <td>63.0</td>\n",
       "      <td>66.0</td>\n",
       "      <td>5.0</td>\n",
       "      <td>10.0</td>\n",
       "      <td>9.0</td>\n",
       "      <td>7.0</td>\n",
       "      <td>7.0</td>\n",
       "    </tr>\n",
       "  </tbody>\n",
       "</table>\n",
       "<p>5 rows × 42 columns</p>\n",
       "</div>"
      ],
      "text/plain": [
       "   id  player_fifa_api_id  player_api_id                 date  overall_rating  \\\n",
       "0   1              218353         505942  2016-02-18 00:00:00            67.0   \n",
       "1   2              218353         505942  2015-11-19 00:00:00            67.0   \n",
       "2   3              218353         505942  2015-09-21 00:00:00            62.0   \n",
       "3   4              218353         505942  2015-03-20 00:00:00            61.0   \n",
       "4   5              218353         505942  2007-02-22 00:00:00            61.0   \n",
       "\n",
       "   potential preferred_foot attacking_work_rate defensive_work_rate  crossing  \\\n",
       "0       71.0          right              medium              medium      49.0   \n",
       "1       71.0          right              medium              medium      49.0   \n",
       "2       66.0          right              medium              medium      49.0   \n",
       "3       65.0          right              medium              medium      48.0   \n",
       "4       65.0          right              medium              medium      48.0   \n",
       "\n",
       "   ...  vision  penalties  marking  standing_tackle  sliding_tackle  \\\n",
       "0  ...    54.0       48.0     65.0             69.0            69.0   \n",
       "1  ...    54.0       48.0     65.0             69.0            69.0   \n",
       "2  ...    54.0       48.0     65.0             66.0            69.0   \n",
       "3  ...    53.0       47.0     62.0             63.0            66.0   \n",
       "4  ...    53.0       47.0     62.0             63.0            66.0   \n",
       "\n",
       "   gk_diving  gk_handling  gk_kicking  gk_positioning  gk_reflexes  \n",
       "0        6.0         11.0        10.0             8.0          8.0  \n",
       "1        6.0         11.0        10.0             8.0          8.0  \n",
       "2        6.0         11.0        10.0             8.0          8.0  \n",
       "3        5.0         10.0         9.0             7.0          7.0  \n",
       "4        5.0         10.0         9.0             7.0          7.0  \n",
       "\n",
       "[5 rows x 42 columns]"
      ]
     },
     "execution_count": 742,
     "metadata": {},
     "output_type": "execute_result"
    }
   ],
   "source": [
    "player_attr=load_data('player_attr', 'Player_Attributes.csv')# player attributes data table\n",
    "player_attr.head()"
   ]
  },
  {
   "cell_type": "markdown",
   "metadata": {},
   "source": [
    "The time 00:00:00 can be removed"
   ]
  },
  {
   "cell_type": "code",
   "execution_count": 743,
   "metadata": {},
   "outputs": [
    {
     "data": {
      "text/html": [
       "<div>\n",
       "<style scoped>\n",
       "    .dataframe tbody tr th:only-of-type {\n",
       "        vertical-align: middle;\n",
       "    }\n",
       "\n",
       "    .dataframe tbody tr th {\n",
       "        vertical-align: top;\n",
       "    }\n",
       "\n",
       "    .dataframe thead th {\n",
       "        text-align: right;\n",
       "    }\n",
       "</style>\n",
       "<table border=\"1\" class=\"dataframe\">\n",
       "  <thead>\n",
       "    <tr style=\"text-align: right;\">\n",
       "      <th></th>\n",
       "      <th>id</th>\n",
       "      <th>team_api_id</th>\n",
       "      <th>team_fifa_api_id</th>\n",
       "      <th>team_long_name</th>\n",
       "      <th>team_short_name</th>\n",
       "    </tr>\n",
       "  </thead>\n",
       "  <tbody>\n",
       "    <tr>\n",
       "      <th>0</th>\n",
       "      <td>1</td>\n",
       "      <td>9987</td>\n",
       "      <td>673.0</td>\n",
       "      <td>KRC Genk</td>\n",
       "      <td>GEN</td>\n",
       "    </tr>\n",
       "    <tr>\n",
       "      <th>1</th>\n",
       "      <td>2</td>\n",
       "      <td>9993</td>\n",
       "      <td>675.0</td>\n",
       "      <td>Beerschot AC</td>\n",
       "      <td>BAC</td>\n",
       "    </tr>\n",
       "    <tr>\n",
       "      <th>2</th>\n",
       "      <td>3</td>\n",
       "      <td>10000</td>\n",
       "      <td>15005.0</td>\n",
       "      <td>SV Zulte-Waregem</td>\n",
       "      <td>ZUL</td>\n",
       "    </tr>\n",
       "    <tr>\n",
       "      <th>3</th>\n",
       "      <td>4</td>\n",
       "      <td>9994</td>\n",
       "      <td>2007.0</td>\n",
       "      <td>Sporting Lokeren</td>\n",
       "      <td>LOK</td>\n",
       "    </tr>\n",
       "    <tr>\n",
       "      <th>4</th>\n",
       "      <td>5</td>\n",
       "      <td>9984</td>\n",
       "      <td>1750.0</td>\n",
       "      <td>KSV Cercle Brugge</td>\n",
       "      <td>CEB</td>\n",
       "    </tr>\n",
       "  </tbody>\n",
       "</table>\n",
       "</div>"
      ],
      "text/plain": [
       "   id  team_api_id  team_fifa_api_id     team_long_name team_short_name\n",
       "0   1         9987             673.0           KRC Genk             GEN\n",
       "1   2         9993             675.0       Beerschot AC             BAC\n",
       "2   3        10000           15005.0   SV Zulte-Waregem             ZUL\n",
       "3   4         9994            2007.0   Sporting Lokeren             LOK\n",
       "4   5         9984            1750.0  KSV Cercle Brugge             CEB"
      ]
     },
     "execution_count": 743,
     "metadata": {},
     "output_type": "execute_result"
    }
   ],
   "source": [
    "team=load_data('team', 'Team.csv')# team data table\n",
    "team.head()"
   ]
  },
  {
   "cell_type": "markdown",
   "metadata": {},
   "source": [
    "The column team_fifa_api_id could insignificant because there is already team_api_id"
   ]
  },
  {
   "cell_type": "code",
   "execution_count": 744,
   "metadata": {},
   "outputs": [
    {
     "data": {
      "text/html": [
       "<div>\n",
       "<style scoped>\n",
       "    .dataframe tbody tr th:only-of-type {\n",
       "        vertical-align: middle;\n",
       "    }\n",
       "\n",
       "    .dataframe tbody tr th {\n",
       "        vertical-align: top;\n",
       "    }\n",
       "\n",
       "    .dataframe thead th {\n",
       "        text-align: right;\n",
       "    }\n",
       "</style>\n",
       "<table border=\"1\" class=\"dataframe\">\n",
       "  <thead>\n",
       "    <tr style=\"text-align: right;\">\n",
       "      <th></th>\n",
       "      <th>id</th>\n",
       "      <th>team_fifa_api_id</th>\n",
       "      <th>team_api_id</th>\n",
       "      <th>date</th>\n",
       "      <th>buildUpPlaySpeed</th>\n",
       "      <th>buildUpPlaySpeedClass</th>\n",
       "      <th>buildUpPlayDribbling</th>\n",
       "      <th>buildUpPlayDribblingClass</th>\n",
       "      <th>buildUpPlayPassing</th>\n",
       "      <th>buildUpPlayPassingClass</th>\n",
       "      <th>...</th>\n",
       "      <th>chanceCreationShooting</th>\n",
       "      <th>chanceCreationShootingClass</th>\n",
       "      <th>chanceCreationPositioningClass</th>\n",
       "      <th>defencePressure</th>\n",
       "      <th>defencePressureClass</th>\n",
       "      <th>defenceAggression</th>\n",
       "      <th>defenceAggressionClass</th>\n",
       "      <th>defenceTeamWidth</th>\n",
       "      <th>defenceTeamWidthClass</th>\n",
       "      <th>defenceDefenderLineClass</th>\n",
       "    </tr>\n",
       "  </thead>\n",
       "  <tbody>\n",
       "    <tr>\n",
       "      <th>0</th>\n",
       "      <td>1</td>\n",
       "      <td>434</td>\n",
       "      <td>9930</td>\n",
       "      <td>2010-02-22 00:00:00</td>\n",
       "      <td>60</td>\n",
       "      <td>Balanced</td>\n",
       "      <td>NaN</td>\n",
       "      <td>Little</td>\n",
       "      <td>50</td>\n",
       "      <td>Mixed</td>\n",
       "      <td>...</td>\n",
       "      <td>55</td>\n",
       "      <td>Normal</td>\n",
       "      <td>Organised</td>\n",
       "      <td>50</td>\n",
       "      <td>Medium</td>\n",
       "      <td>55</td>\n",
       "      <td>Press</td>\n",
       "      <td>45</td>\n",
       "      <td>Normal</td>\n",
       "      <td>Cover</td>\n",
       "    </tr>\n",
       "    <tr>\n",
       "      <th>1</th>\n",
       "      <td>2</td>\n",
       "      <td>434</td>\n",
       "      <td>9930</td>\n",
       "      <td>2014-09-19 00:00:00</td>\n",
       "      <td>52</td>\n",
       "      <td>Balanced</td>\n",
       "      <td>48.0</td>\n",
       "      <td>Normal</td>\n",
       "      <td>56</td>\n",
       "      <td>Mixed</td>\n",
       "      <td>...</td>\n",
       "      <td>64</td>\n",
       "      <td>Normal</td>\n",
       "      <td>Organised</td>\n",
       "      <td>47</td>\n",
       "      <td>Medium</td>\n",
       "      <td>44</td>\n",
       "      <td>Press</td>\n",
       "      <td>54</td>\n",
       "      <td>Normal</td>\n",
       "      <td>Cover</td>\n",
       "    </tr>\n",
       "    <tr>\n",
       "      <th>2</th>\n",
       "      <td>3</td>\n",
       "      <td>434</td>\n",
       "      <td>9930</td>\n",
       "      <td>2015-09-10 00:00:00</td>\n",
       "      <td>47</td>\n",
       "      <td>Balanced</td>\n",
       "      <td>41.0</td>\n",
       "      <td>Normal</td>\n",
       "      <td>54</td>\n",
       "      <td>Mixed</td>\n",
       "      <td>...</td>\n",
       "      <td>64</td>\n",
       "      <td>Normal</td>\n",
       "      <td>Organised</td>\n",
       "      <td>47</td>\n",
       "      <td>Medium</td>\n",
       "      <td>44</td>\n",
       "      <td>Press</td>\n",
       "      <td>54</td>\n",
       "      <td>Normal</td>\n",
       "      <td>Cover</td>\n",
       "    </tr>\n",
       "    <tr>\n",
       "      <th>3</th>\n",
       "      <td>4</td>\n",
       "      <td>77</td>\n",
       "      <td>8485</td>\n",
       "      <td>2010-02-22 00:00:00</td>\n",
       "      <td>70</td>\n",
       "      <td>Fast</td>\n",
       "      <td>NaN</td>\n",
       "      <td>Little</td>\n",
       "      <td>70</td>\n",
       "      <td>Long</td>\n",
       "      <td>...</td>\n",
       "      <td>70</td>\n",
       "      <td>Lots</td>\n",
       "      <td>Organised</td>\n",
       "      <td>60</td>\n",
       "      <td>Medium</td>\n",
       "      <td>70</td>\n",
       "      <td>Double</td>\n",
       "      <td>70</td>\n",
       "      <td>Wide</td>\n",
       "      <td>Cover</td>\n",
       "    </tr>\n",
       "    <tr>\n",
       "      <th>4</th>\n",
       "      <td>5</td>\n",
       "      <td>77</td>\n",
       "      <td>8485</td>\n",
       "      <td>2011-02-22 00:00:00</td>\n",
       "      <td>47</td>\n",
       "      <td>Balanced</td>\n",
       "      <td>NaN</td>\n",
       "      <td>Little</td>\n",
       "      <td>52</td>\n",
       "      <td>Mixed</td>\n",
       "      <td>...</td>\n",
       "      <td>52</td>\n",
       "      <td>Normal</td>\n",
       "      <td>Organised</td>\n",
       "      <td>47</td>\n",
       "      <td>Medium</td>\n",
       "      <td>47</td>\n",
       "      <td>Press</td>\n",
       "      <td>52</td>\n",
       "      <td>Normal</td>\n",
       "      <td>Cover</td>\n",
       "    </tr>\n",
       "  </tbody>\n",
       "</table>\n",
       "<p>5 rows × 25 columns</p>\n",
       "</div>"
      ],
      "text/plain": [
       "   id  team_fifa_api_id  team_api_id                 date  buildUpPlaySpeed  \\\n",
       "0   1               434         9930  2010-02-22 00:00:00                60   \n",
       "1   2               434         9930  2014-09-19 00:00:00                52   \n",
       "2   3               434         9930  2015-09-10 00:00:00                47   \n",
       "3   4                77         8485  2010-02-22 00:00:00                70   \n",
       "4   5                77         8485  2011-02-22 00:00:00                47   \n",
       "\n",
       "  buildUpPlaySpeedClass  buildUpPlayDribbling buildUpPlayDribblingClass  \\\n",
       "0              Balanced                   NaN                    Little   \n",
       "1              Balanced                  48.0                    Normal   \n",
       "2              Balanced                  41.0                    Normal   \n",
       "3                  Fast                   NaN                    Little   \n",
       "4              Balanced                   NaN                    Little   \n",
       "\n",
       "   buildUpPlayPassing buildUpPlayPassingClass  ... chanceCreationShooting  \\\n",
       "0                  50                   Mixed  ...                     55   \n",
       "1                  56                   Mixed  ...                     64   \n",
       "2                  54                   Mixed  ...                     64   \n",
       "3                  70                    Long  ...                     70   \n",
       "4                  52                   Mixed  ...                     52   \n",
       "\n",
       "   chanceCreationShootingClass chanceCreationPositioningClass  \\\n",
       "0                       Normal                      Organised   \n",
       "1                       Normal                      Organised   \n",
       "2                       Normal                      Organised   \n",
       "3                         Lots                      Organised   \n",
       "4                       Normal                      Organised   \n",
       "\n",
       "   defencePressure defencePressureClass  defenceAggression  \\\n",
       "0               50               Medium                 55   \n",
       "1               47               Medium                 44   \n",
       "2               47               Medium                 44   \n",
       "3               60               Medium                 70   \n",
       "4               47               Medium                 47   \n",
       "\n",
       "  defenceAggressionClass defenceTeamWidth  defenceTeamWidthClass  \\\n",
       "0                  Press               45                 Normal   \n",
       "1                  Press               54                 Normal   \n",
       "2                  Press               54                 Normal   \n",
       "3                 Double               70                   Wide   \n",
       "4                  Press               52                 Normal   \n",
       "\n",
       "  defenceDefenderLineClass  \n",
       "0                    Cover  \n",
       "1                    Cover  \n",
       "2                    Cover  \n",
       "3                    Cover  \n",
       "4                    Cover  \n",
       "\n",
       "[5 rows x 25 columns]"
      ]
     },
     "execution_count": 744,
     "metadata": {},
     "output_type": "execute_result"
    }
   ],
   "source": [
    "team_attr=load_data('team_attr', 'Team_Attributes.csv')# team attributes data table\n",
    "team_attr.head()"
   ]
  },
  {
   "cell_type": "markdown",
   "metadata": {},
   "source": [
    "I want again to develop a function that I will be using in inspecting the datasets for missing data, getting descriptive statistics, dimensions, and features' data types"
   ]
  },
  {
   "cell_type": "code",
   "execution_count": 745,
   "metadata": {},
   "outputs": [],
   "source": [
    "# creating function for inspecting the datasets\n",
    "def wrangles (tbl_name):\n",
    "    \n",
    "    inf=tbl_name.info(); # inspecting data types and instances with missing data \n",
    "    dim=tbl_name.shape; # inspecting dimensions of the dataset\n",
    "    desc=tbl_name.describe(); # getting descriptive statistics\n",
    "        \n",
    "    return inf, dim, desc"
   ]
  },
  {
   "cell_type": "code",
   "execution_count": 746,
   "metadata": {},
   "outputs": [
    {
     "name": "stdout",
     "output_type": "stream",
     "text": [
      "<class 'pandas.core.frame.DataFrame'>\n",
      "RangeIndex: 11 entries, 0 to 10\n",
      "Data columns (total 2 columns):\n",
      " #   Column  Non-Null Count  Dtype \n",
      "---  ------  --------------  ----- \n",
      " 0   id      11 non-null     int64 \n",
      " 1   name    11 non-null     object\n",
      "dtypes: int64(1), object(1)\n",
      "memory usage: 304.0+ bytes\n"
     ]
    },
    {
     "data": {
      "text/plain": [
       "(None,\n",
       " (11, 2),\n",
       "                  id\n",
       " count     11.000000\n",
       " mean   12452.090909\n",
       " std     8215.308472\n",
       " min        1.000000\n",
       " 25%     6289.000000\n",
       " 50%    13274.000000\n",
       " 75%    18668.000000\n",
       " max    24558.000000)"
      ]
     },
     "execution_count": 746,
     "metadata": {},
     "output_type": "execute_result"
    }
   ],
   "source": [
    "# country dataset\n",
    "wrangles(country)"
   ]
  },
  {
   "cell_type": "markdown",
   "metadata": {},
   "source": [
    "There is no need of getting the mean for ids, since the names are string we can just unique values and counts "
   ]
  },
  {
   "cell_type": "code",
   "execution_count": 747,
   "metadata": {},
   "outputs": [
    {
     "data": {
      "text/plain": [
       "count          11\n",
       "unique         11\n",
       "top       Belgium\n",
       "freq            1\n",
       "Name: name, dtype: object"
      ]
     },
     "execution_count": 747,
     "metadata": {},
     "output_type": "execute_result"
    }
   ],
   "source": [
    "country.name.describe()"
   ]
  },
  {
   "cell_type": "code",
   "execution_count": 748,
   "metadata": {},
   "outputs": [
    {
     "name": "stdout",
     "output_type": "stream",
     "text": [
      "<class 'pandas.core.frame.DataFrame'>\n",
      "RangeIndex: 11 entries, 0 to 10\n",
      "Data columns (total 3 columns):\n",
      " #   Column      Non-Null Count  Dtype \n",
      "---  ------      --------------  ----- \n",
      " 0   id          11 non-null     int64 \n",
      " 1   country_id  11 non-null     int64 \n",
      " 2   name        11 non-null     object\n",
      "dtypes: int64(2), object(1)\n",
      "memory usage: 392.0+ bytes\n"
     ]
    },
    {
     "data": {
      "text/plain": [
       "(None,\n",
       " (11, 3),\n",
       "                  id    country_id\n",
       " count     11.000000     11.000000\n",
       " mean   12452.090909  12452.090909\n",
       " std     8215.308472   8215.308472\n",
       " min        1.000000      1.000000\n",
       " 25%     6289.000000   6289.000000\n",
       " 50%    13274.000000  13274.000000\n",
       " 75%    18668.000000  18668.000000\n",
       " max    24558.000000  24558.000000)"
      ]
     },
     "execution_count": 748,
     "metadata": {},
     "output_type": "execute_result"
    }
   ],
   "source": [
    "# league data\n",
    "wrangles(league)"
   ]
  },
  {
   "cell_type": "markdown",
   "metadata": {},
   "source": [
    "There is no need of getting the mean for ids, since the names are string we can just unique values and counts"
   ]
  },
  {
   "cell_type": "code",
   "execution_count": 749,
   "metadata": {},
   "outputs": [
    {
     "data": {
      "text/plain": [
       "count                         11\n",
       "unique                        11\n",
       "top       Belgium Jupiler League\n",
       "freq                           1\n",
       "Name: name, dtype: object"
      ]
     },
     "execution_count": 749,
     "metadata": {},
     "output_type": "execute_result"
    }
   ],
   "source": [
    "league.name.describe()"
   ]
  },
  {
   "cell_type": "code",
   "execution_count": 750,
   "metadata": {},
   "outputs": [
    {
     "name": "stdout",
     "output_type": "stream",
     "text": [
      "<class 'pandas.core.frame.DataFrame'>\n",
      "RangeIndex: 25979 entries, 0 to 25978\n",
      "Columns: 115 entries, id to BSA\n",
      "dtypes: float64(96), int64(9), object(10)\n",
      "memory usage: 22.8+ MB\n"
     ]
    },
    {
     "data": {
      "text/plain": [
       "(None,\n",
       " (25979, 115),\n",
       "                  id    country_id     league_id         stage  match_api_id  \\\n",
       " count  25979.000000  25979.000000  25979.000000  25979.000000  2.597900e+04   \n",
       " mean   12990.000000  11738.630317  11738.630317     18.242773  1.195429e+06   \n",
       " std     7499.635658   7553.936759   7553.936759     10.407354  4.946279e+05   \n",
       " min        1.000000      1.000000      1.000000      1.000000  4.831290e+05   \n",
       " 25%     6495.500000   4769.000000   4769.000000      9.000000  7.684365e+05   \n",
       " 50%    12990.000000  10257.000000  10257.000000     18.000000  1.147511e+06   \n",
       " 75%    19484.500000  17642.000000  17642.000000     27.000000  1.709852e+06   \n",
       " max    25979.000000  24558.000000  24558.000000     38.000000  2.216672e+06   \n",
       " \n",
       "        home_team_api_id  away_team_api_id  home_team_goal  away_team_goal  \\\n",
       " count      25979.000000      25979.000000    25979.000000    25979.000000   \n",
       " mean        9984.371993       9984.475115        1.544594        1.160938   \n",
       " std        14087.453758      14087.445135        1.297158        1.142110   \n",
       " min         1601.000000       1601.000000        0.000000        0.000000   \n",
       " 25%         8475.000000       8475.000000        1.000000        0.000000   \n",
       " 50%         8697.000000       8697.000000        1.000000        1.000000   \n",
       " 75%         9925.000000       9925.000000        2.000000        2.000000   \n",
       " max       274581.000000     274581.000000       10.000000        9.000000   \n",
       " \n",
       "        home_player_X1  ...           SJA           VCH           VCD  \\\n",
       " count    24158.000000  ...  17097.000000  22568.000000  22568.000000   \n",
       " mean         0.999586  ...      4.622343      2.668107      3.899048   \n",
       " std          0.022284  ...      3.632164      1.928753      1.248221   \n",
       " min          0.000000  ...      1.100000      1.030000      1.620000   \n",
       " 25%          1.000000  ...      2.500000      1.700000      3.300000   \n",
       " 50%          1.000000  ...      3.500000      2.150000      3.500000   \n",
       " 75%          1.000000  ...      5.250000      2.800000      4.000000   \n",
       " max          2.000000  ...     41.000000     36.000000     26.000000   \n",
       " \n",
       "                 VCA           GBH           GBD           GBA           BSH  \\\n",
       " count  22568.000000  14162.000000  14162.000000  14162.000000  14161.000000   \n",
       " mean       4.840281      2.498764      3.648189      4.353097      2.497894   \n",
       " std        4.318338      1.489299      0.867440      3.010189      1.507793   \n",
       " min        1.080000      1.050000      1.450000      1.120000      1.040000   \n",
       " 25%        2.550000      1.670000      3.200000      2.500000      1.670000   \n",
       " 50%        3.500000      2.100000      3.300000      3.400000      2.100000   \n",
       " 75%        5.400000      2.650000      3.750000      5.000000      2.620000   \n",
       " max       67.000000     21.000000     11.000000     34.000000     17.000000   \n",
       " \n",
       "                 BSD           BSA  \n",
       " count  14161.000000  14161.000000  \n",
       " mean       3.660742      4.405663  \n",
       " std        0.868272      3.189814  \n",
       " min        1.330000      1.120000  \n",
       " 25%        3.250000      2.500000  \n",
       " 50%        3.400000      3.400000  \n",
       " 75%        3.750000      5.000000  \n",
       " max       13.000000     34.000000  \n",
       " \n",
       " [8 rows x 105 columns])"
      ]
     },
     "execution_count": 750,
     "metadata": {},
     "output_type": "execute_result"
    }
   ],
   "source": [
    "# match data\n",
    "wrangles(match)"
   ]
  },
  {
   "cell_type": "markdown",
   "metadata": {},
   "source": [
    "missing data for column home_player_x1"
   ]
  },
  {
   "cell_type": "code",
   "execution_count": 751,
   "metadata": {},
   "outputs": [
    {
     "data": {
      "text/plain": [
       "id              int64\n",
       "country_id      int64\n",
       "league_id       int64\n",
       "season         object\n",
       "stage           int64\n",
       "               ...   \n",
       "GBD           float64\n",
       "GBA           float64\n",
       "BSH           float64\n",
       "BSD           float64\n",
       "BSA           float64\n",
       "Length: 115, dtype: object"
      ]
     },
     "execution_count": 751,
     "metadata": {},
     "output_type": "execute_result"
    }
   ],
   "source": [
    "match.dtypes"
   ]
  },
  {
   "cell_type": "markdown",
   "metadata": {},
   "source": [
    "the date has been stored as a string"
   ]
  },
  {
   "cell_type": "code",
   "execution_count": 752,
   "metadata": {},
   "outputs": [
    {
     "name": "stdout",
     "output_type": "stream",
     "text": [
      "<class 'pandas.core.frame.DataFrame'>\n",
      "RangeIndex: 11060 entries, 0 to 11059\n",
      "Data columns (total 7 columns):\n",
      " #   Column              Non-Null Count  Dtype  \n",
      "---  ------              --------------  -----  \n",
      " 0   id                  11060 non-null  int64  \n",
      " 1   player_api_id       11060 non-null  int64  \n",
      " 2   player_name         11060 non-null  object \n",
      " 3   player_fifa_api_id  11060 non-null  int64  \n",
      " 4   birthday            11060 non-null  object \n",
      " 5   height              11060 non-null  float64\n",
      " 6   weight              11060 non-null  int64  \n",
      "dtypes: float64(1), int64(4), object(2)\n",
      "memory usage: 605.0+ KB\n"
     ]
    },
    {
     "data": {
      "text/plain": [
       "(None,\n",
       " (11060, 7),\n",
       "                  id  player_api_id  player_fifa_api_id        height  \\\n",
       " count  11060.000000   11060.000000        11060.000000  11060.000000   \n",
       " mean    5537.511392  156582.427215       165664.910488    181.867445   \n",
       " std     3197.692647  160713.700624        58649.928360      6.369201   \n",
       " min        1.000000    2625.000000            2.000000    157.480000   \n",
       " 25%     2767.750000   35555.500000       151889.500000    177.800000   \n",
       " 50%     5536.500000   96619.500000       184671.000000    182.880000   \n",
       " 75%     8306.250000  212470.500000       203883.250000    185.420000   \n",
       " max    11075.000000  750584.000000       234141.000000    208.280000   \n",
       " \n",
       "              weight  \n",
       " count  11060.000000  \n",
       " mean     168.380289  \n",
       " std       14.990217  \n",
       " min      117.000000  \n",
       " 25%      159.000000  \n",
       " 50%      168.000000  \n",
       " 75%      179.000000  \n",
       " max      243.000000  )"
      ]
     },
     "execution_count": 752,
     "metadata": {},
     "output_type": "execute_result"
    }
   ],
   "source": [
    "# player data\n",
    "wrangles(player)"
   ]
  },
  {
   "cell_type": "markdown",
   "metadata": {},
   "source": [
    "birthday column stored as string"
   ]
  },
  {
   "cell_type": "code",
   "execution_count": 753,
   "metadata": {},
   "outputs": [
    {
     "name": "stdout",
     "output_type": "stream",
     "text": [
      "<class 'pandas.core.frame.DataFrame'>\n",
      "RangeIndex: 183978 entries, 0 to 183977\n",
      "Data columns (total 42 columns):\n",
      " #   Column               Non-Null Count   Dtype  \n",
      "---  ------               --------------   -----  \n",
      " 0   id                   183978 non-null  int64  \n",
      " 1   player_fifa_api_id   183978 non-null  int64  \n",
      " 2   player_api_id        183978 non-null  int64  \n",
      " 3   date                 183978 non-null  object \n",
      " 4   overall_rating       183142 non-null  float64\n",
      " 5   potential            183142 non-null  float64\n",
      " 6   preferred_foot       183142 non-null  object \n",
      " 7   attacking_work_rate  180748 non-null  object \n",
      " 8   defensive_work_rate  183142 non-null  object \n",
      " 9   crossing             183142 non-null  float64\n",
      " 10  finishing            183142 non-null  float64\n",
      " 11  heading_accuracy     183142 non-null  float64\n",
      " 12  short_passing        183142 non-null  float64\n",
      " 13  volleys              181265 non-null  float64\n",
      " 14  dribbling            183142 non-null  float64\n",
      " 15  curve                181265 non-null  float64\n",
      " 16  free_kick_accuracy   183142 non-null  float64\n",
      " 17  long_passing         183142 non-null  float64\n",
      " 18  ball_control         183142 non-null  float64\n",
      " 19  acceleration         183142 non-null  float64\n",
      " 20  sprint_speed         183142 non-null  float64\n",
      " 21  agility              181265 non-null  float64\n",
      " 22  reactions            183142 non-null  float64\n",
      " 23  balance              181265 non-null  float64\n",
      " 24  shot_power           183142 non-null  float64\n",
      " 25  jumping              181265 non-null  float64\n",
      " 26  stamina              183142 non-null  float64\n",
      " 27  strength             183142 non-null  float64\n",
      " 28  long_shots           183142 non-null  float64\n",
      " 29  aggression           183142 non-null  float64\n",
      " 30  interceptions        183142 non-null  float64\n",
      " 31  positioning          183142 non-null  float64\n",
      " 32  vision               181265 non-null  float64\n",
      " 33  penalties            183142 non-null  float64\n",
      " 34  marking              183142 non-null  float64\n",
      " 35  standing_tackle      183142 non-null  float64\n",
      " 36  sliding_tackle       181265 non-null  float64\n",
      " 37  gk_diving            183142 non-null  float64\n",
      " 38  gk_handling          183142 non-null  float64\n",
      " 39  gk_kicking           183142 non-null  float64\n",
      " 40  gk_positioning       183142 non-null  float64\n",
      " 41  gk_reflexes          183142 non-null  float64\n",
      "dtypes: float64(35), int64(3), object(4)\n",
      "memory usage: 59.0+ MB\n"
     ]
    },
    {
     "data": {
      "text/plain": [
       "(None,\n",
       " (183978, 42),\n",
       "                  id  player_fifa_api_id  player_api_id  overall_rating  \\\n",
       " count  183978.00000       183978.000000  183978.000000   183142.000000   \n",
       " mean    91989.50000       165671.524291  135900.617324       68.600015   \n",
       " std     53110.01825        53851.094769  136927.840510        7.041139   \n",
       " min         1.00000            2.000000    2625.000000       33.000000   \n",
       " 25%     45995.25000       155798.000000   34763.000000       64.000000   \n",
       " 50%     91989.50000       183488.000000   77741.000000       69.000000   \n",
       " 75%    137983.75000       199848.000000  191080.000000       73.000000   \n",
       " max    183978.00000       234141.000000  750584.000000       94.000000   \n",
       " \n",
       "            potential       crossing      finishing  heading_accuracy  \\\n",
       " count  183142.000000  183142.000000  183142.000000     183142.000000   \n",
       " mean       73.460353      55.086883      49.921078         57.266023   \n",
       " std         6.592271      17.242135      19.038705         16.488905   \n",
       " min        39.000000       1.000000       1.000000          1.000000   \n",
       " 25%        69.000000      45.000000      34.000000         49.000000   \n",
       " 50%        74.000000      59.000000      53.000000         60.000000   \n",
       " 75%        78.000000      68.000000      65.000000         68.000000   \n",
       " max        97.000000      95.000000      97.000000         98.000000   \n",
       " \n",
       "        short_passing        volleys  ...         vision      penalties  \\\n",
       " count  183142.000000  181265.000000  ...  181265.000000  183142.000000   \n",
       " mean       62.429672      49.468436  ...      57.873550      55.003986   \n",
       " std        14.194068      18.256618  ...      15.144086      15.546519   \n",
       " min         3.000000       1.000000  ...       1.000000       2.000000   \n",
       " 25%        57.000000      35.000000  ...      49.000000      45.000000   \n",
       " 50%        65.000000      52.000000  ...      60.000000      57.000000   \n",
       " 75%        72.000000      64.000000  ...      69.000000      67.000000   \n",
       " max        97.000000      93.000000  ...      97.000000      96.000000   \n",
       " \n",
       "              marking  standing_tackle  sliding_tackle      gk_diving  \\\n",
       " count  183142.000000    183142.000000   181265.000000  183142.000000   \n",
       " mean       46.772242        50.351257       48.001462      14.704393   \n",
       " std        21.227667        21.483706       21.598778      16.865467   \n",
       " min         1.000000         1.000000        2.000000       1.000000   \n",
       " 25%        25.000000        29.000000       25.000000       7.000000   \n",
       " 50%        50.000000        56.000000       53.000000      10.000000   \n",
       " 75%        66.000000        69.000000       67.000000      13.000000   \n",
       " max        96.000000        95.000000       95.000000      94.000000   \n",
       " \n",
       "          gk_handling     gk_kicking  gk_positioning    gk_reflexes  \n",
       " count  183142.000000  183142.000000   183142.000000  183142.000000  \n",
       " mean       16.063612      20.998362       16.132154      16.441439  \n",
       " std        15.867382      21.452980       16.099175      17.198155  \n",
       " min         1.000000       1.000000        1.000000       1.000000  \n",
       " 25%         8.000000       8.000000        8.000000       8.000000  \n",
       " 50%        11.000000      12.000000       11.000000      11.000000  \n",
       " 75%        15.000000      15.000000       15.000000      15.000000  \n",
       " max        93.000000      97.000000       96.000000      96.000000  \n",
       " \n",
       " [8 rows x 38 columns])"
      ]
     },
     "execution_count": 753,
     "metadata": {},
     "output_type": "execute_result"
    }
   ],
   "source": [
    "# player attributes data\n",
    "wrangles(player_attr)"
   ]
  },
  {
   "cell_type": "markdown",
   "metadata": {},
   "source": [
    "dates stored as string"
   ]
  },
  {
   "cell_type": "code",
   "execution_count": 754,
   "metadata": {},
   "outputs": [
    {
     "name": "stdout",
     "output_type": "stream",
     "text": [
      "<class 'pandas.core.frame.DataFrame'>\n",
      "RangeIndex: 299 entries, 0 to 298\n",
      "Data columns (total 5 columns):\n",
      " #   Column            Non-Null Count  Dtype  \n",
      "---  ------            --------------  -----  \n",
      " 0   id                299 non-null    int64  \n",
      " 1   team_api_id       299 non-null    int64  \n",
      " 2   team_fifa_api_id  288 non-null    float64\n",
      " 3   team_long_name    299 non-null    object \n",
      " 4   team_short_name   299 non-null    object \n",
      "dtypes: float64(1), int64(2), object(2)\n",
      "memory usage: 11.8+ KB\n"
     ]
    },
    {
     "data": {
      "text/plain": [
       "(None,\n",
       " (299, 5),\n",
       "                  id    team_api_id  team_fifa_api_id\n",
       " count    299.000000     299.000000        288.000000\n",
       " mean   23735.301003   12340.521739      21534.305556\n",
       " std    15167.914719   25940.411135      42456.439408\n",
       " min        1.000000    1601.000000          1.000000\n",
       " 25%     9552.500000    8349.000000        178.750000\n",
       " 50%    22805.000000    8655.000000        673.500000\n",
       " 75%    36250.500000    9886.500000       1910.750000\n",
       " max    51606.000000  274581.000000     112513.000000)"
      ]
     },
     "execution_count": 754,
     "metadata": {},
     "output_type": "execute_result"
    }
   ],
   "source": [
    "# team data\n",
    "wrangles(team)"
   ]
  },
  {
   "cell_type": "markdown",
   "metadata": {},
   "source": [
    "Missing data for team_fifa_api_id, though this might be insignificant since there is already team_api_id"
   ]
  },
  {
   "cell_type": "code",
   "execution_count": 755,
   "metadata": {},
   "outputs": [
    {
     "name": "stdout",
     "output_type": "stream",
     "text": [
      "<class 'pandas.core.frame.DataFrame'>\n",
      "RangeIndex: 1458 entries, 0 to 1457\n",
      "Data columns (total 25 columns):\n",
      " #   Column                          Non-Null Count  Dtype  \n",
      "---  ------                          --------------  -----  \n",
      " 0   id                              1458 non-null   int64  \n",
      " 1   team_fifa_api_id                1458 non-null   int64  \n",
      " 2   team_api_id                     1458 non-null   int64  \n",
      " 3   date                            1458 non-null   object \n",
      " 4   buildUpPlaySpeed                1458 non-null   int64  \n",
      " 5   buildUpPlaySpeedClass           1458 non-null   object \n",
      " 6   buildUpPlayDribbling            489 non-null    float64\n",
      " 7   buildUpPlayDribblingClass       1458 non-null   object \n",
      " 8   buildUpPlayPassing              1458 non-null   int64  \n",
      " 9   buildUpPlayPassingClass         1458 non-null   object \n",
      " 10  buildUpPlayPositioningClass     1458 non-null   object \n",
      " 11  chanceCreationPassing           1458 non-null   int64  \n",
      " 12  chanceCreationPassingClass      1458 non-null   object \n",
      " 13  chanceCreationCrossing          1458 non-null   int64  \n",
      " 14  chanceCreationCrossingClass     1458 non-null   object \n",
      " 15  chanceCreationShooting          1458 non-null   int64  \n",
      " 16  chanceCreationShootingClass     1458 non-null   object \n",
      " 17  chanceCreationPositioningClass  1458 non-null   object \n",
      " 18  defencePressure                 1458 non-null   int64  \n",
      " 19  defencePressureClass            1458 non-null   object \n",
      " 20  defenceAggression               1458 non-null   int64  \n",
      " 21  defenceAggressionClass          1458 non-null   object \n",
      " 22  defenceTeamWidth                1458 non-null   int64  \n",
      " 23  defenceTeamWidthClass           1458 non-null   object \n",
      " 24  defenceDefenderLineClass        1458 non-null   object \n",
      "dtypes: float64(1), int64(11), object(13)\n",
      "memory usage: 284.9+ KB\n"
     ]
    },
    {
     "data": {
      "text/plain": [
       "(None,\n",
       " (1458, 25),\n",
       "                 id  team_fifa_api_id    team_api_id  buildUpPlaySpeed  \\\n",
       " count  1458.000000       1458.000000    1458.000000       1458.000000   \n",
       " mean    729.500000      17706.982167    9995.727023         52.462277   \n",
       " std     421.032659      39179.857739   13264.869900         11.545869   \n",
       " min       1.000000          1.000000    1601.000000         20.000000   \n",
       " 25%     365.250000        110.000000    8457.750000         45.000000   \n",
       " 50%     729.500000        485.000000    8674.000000         52.000000   \n",
       " 75%    1093.750000       1900.000000    9904.000000         62.000000   \n",
       " max    1458.000000     112513.000000  274581.000000         80.000000   \n",
       " \n",
       "        buildUpPlayDribbling  buildUpPlayPassing  chanceCreationPassing  \\\n",
       " count            489.000000         1458.000000            1458.000000   \n",
       " mean              48.607362           48.490398              52.165295   \n",
       " std                9.678290           10.896101              10.360793   \n",
       " min               24.000000           20.000000              21.000000   \n",
       " 25%               42.000000           40.000000              46.000000   \n",
       " 50%               49.000000           50.000000              52.000000   \n",
       " 75%               55.000000           55.000000              59.000000   \n",
       " max               77.000000           80.000000              80.000000   \n",
       " \n",
       "        chanceCreationCrossing  chanceCreationShooting  defencePressure  \\\n",
       " count             1458.000000             1458.000000      1458.000000   \n",
       " mean                53.731824               53.969136        46.017147   \n",
       " std                 11.086796               10.327566        10.227225   \n",
       " min                 20.000000               22.000000        23.000000   \n",
       " 25%                 47.000000               48.000000        39.000000   \n",
       " 50%                 53.000000               53.000000        45.000000   \n",
       " 75%                 62.000000               61.000000        51.000000   \n",
       " max                 80.000000               80.000000        72.000000   \n",
       " \n",
       "        defenceAggression  defenceTeamWidth  \n",
       " count        1458.000000       1458.000000  \n",
       " mean           49.251029         52.185871  \n",
       " std             9.738028          9.574712  \n",
       " min            24.000000         29.000000  \n",
       " 25%            44.000000         47.000000  \n",
       " 50%            48.000000         52.000000  \n",
       " 75%            55.000000         58.000000  \n",
       " max            72.000000         73.000000  )"
      ]
     },
     "execution_count": 755,
     "metadata": {},
     "output_type": "execute_result"
    }
   ],
   "source": [
    "# team attributes data\n",
    "wrangles(team_attr)"
   ]
  },
  {
   "cell_type": "markdown",
   "metadata": {},
   "source": [
    "Missing data for buildUpPlayDribbling"
   ]
  },
  {
   "cell_type": "markdown",
   "metadata": {},
   "source": [
    "\n",
    "### Data Cleaning\n",
    "\n",
    "First, I want to create functions that will help me drop duplicates, merge two datasets, change data type, remove missing rows, drop unnecessary columns, then proceed to to merge the country data to that for league. \n",
    "I will correct the league name for Germany 1. Bundesliga to Germany Bundesliga 1.\n",
    "I will also change the name column for both the country data and league data, and also make the datafrmaes have the same dimensions and finally merge the two dataframes into country_league data using the country id as the key"
   ]
  },
  {
   "cell_type": "code",
   "execution_count": 756,
   "metadata": {},
   "outputs": [],
   "source": [
    "# creating function to rename columns in a data frame\n",
    "def col_rename(col_renamed_data, col_old, col_new):\n",
    "    if len(col_old)==2: # checks if there are two columns to be renamed\n",
    "        col_renamed_data.rename(columns={col_old[0]:col_new[0], col_old[1]:col_new[1]}, inplace=True) # renames the two columns in the dataset\n",
    "    else:\n",
    "        col_renamed_data.rename(columns={col_old:col_new}, inplace=True) # renames if there is only one column to be renamed\n",
    "        \n",
    "    return col_renamed_data"
   ]
  },
  {
   "cell_type": "code",
   "execution_count": 757,
   "metadata": {},
   "outputs": [],
   "source": [
    "# creating a function drop columns\n",
    "def drop_cols(drop_col_data, col_name):\n",
    "    drop_col_data.drop(col_name, axis=1, inplace=True) # removing columns\n",
    "        \n",
    "    return drop_col_data"
   ]
  },
  {
   "cell_type": "code",
   "execution_count": 758,
   "metadata": {},
   "outputs": [],
   "source": [
    "# creating a function to remove row missing values\n",
    "def remove_row_missing_values(na_data):\n",
    "    na_data.dropna(axis=0, how='any', inplace=True) # removing all rows with missing values\n",
    "        \n",
    "    return na_data"
   ]
  },
  {
   "cell_type": "code",
   "execution_count": 759,
   "metadata": {},
   "outputs": [],
   "source": [
    "# creating a function to remove duplicate rows\n",
    "def remove_duplicates(dup_data, col):\n",
    "    if col=='':\n",
    "        dup_data.drop_duplicates(inplace=True) # remove all duplicate rows\n",
    "        \n",
    "    else:\n",
    "        dup_data.dropna(subset=[col], inplace=True) # removing rows based on column duplicate values\n",
    "        \n",
    "    return dup_data"
   ]
  },
  {
   "cell_type": "code",
   "execution_count": 760,
   "metadata": {},
   "outputs": [],
   "source": [
    "# creating a function to change date column from string to datetime\n",
    "def changed_type(changed_type_data, col_type):\n",
    "    changed_type_data[col_type]=changed_type_data[col_type].astype('str')  # converting to string\n",
    "    changed_type_data[col_type]=changed_type_data[col_type].str.extract(r'(\\d{4}-\\d{2}-\\d{2})') # extracting the date\n",
    "    changed_type_data[col_type] = pd.to_datetime(changed_type_data[col_type], format='%Y-%m-%d') # converting to datetime\n",
    "\n",
    "    return changed_type_data"
   ]
  },
  {
   "cell_type": "code",
   "execution_count": 761,
   "metadata": {},
   "outputs": [],
   "source": [
    "# creating a function to filter some columns\n",
    "def filter_col(f_data, col):\n",
    "    df=f_data.filter(col) # filters the columns\n",
    "        \n",
    "    return df"
   ]
  },
  {
   "cell_type": "code",
   "execution_count": 762,
   "metadata": {},
   "outputs": [],
   "source": [
    "# creating a function to to merge two data frames using inner because i dont want do keep duplicates\n",
    "def merging_data(data1, data2, on_col):\n",
    "    df=data1.merge(data2, on =on_col, how='inner')\n",
    "        \n",
    "    return df"
   ]
  },
  {
   "cell_type": "code",
   "execution_count": 763,
   "metadata": {},
   "outputs": [],
   "source": [
    "# correcting the league name for Germany 1. Bundesliga\n",
    "league.replace(to_replace='Germany 1. Bundesliga', value='Germany Bundesliga 1', inplace=True)"
   ]
  },
  {
   "cell_type": "code",
   "execution_count": 764,
   "metadata": {},
   "outputs": [
    {
     "data": {
      "text/html": [
       "<div>\n",
       "<style scoped>\n",
       "    .dataframe tbody tr th:only-of-type {\n",
       "        vertical-align: middle;\n",
       "    }\n",
       "\n",
       "    .dataframe tbody tr th {\n",
       "        vertical-align: top;\n",
       "    }\n",
       "\n",
       "    .dataframe thead th {\n",
       "        text-align: right;\n",
       "    }\n",
       "</style>\n",
       "<table border=\"1\" class=\"dataframe\">\n",
       "  <thead>\n",
       "    <tr style=\"text-align: right;\">\n",
       "      <th></th>\n",
       "      <th>country_id</th>\n",
       "      <th>country_name</th>\n",
       "    </tr>\n",
       "  </thead>\n",
       "  <tbody>\n",
       "    <tr>\n",
       "      <th>0</th>\n",
       "      <td>1</td>\n",
       "      <td>Belgium</td>\n",
       "    </tr>\n",
       "    <tr>\n",
       "      <th>1</th>\n",
       "      <td>1729</td>\n",
       "      <td>England</td>\n",
       "    </tr>\n",
       "    <tr>\n",
       "      <th>2</th>\n",
       "      <td>4769</td>\n",
       "      <td>France</td>\n",
       "    </tr>\n",
       "    <tr>\n",
       "      <th>3</th>\n",
       "      <td>7809</td>\n",
       "      <td>Germany</td>\n",
       "    </tr>\n",
       "    <tr>\n",
       "      <th>4</th>\n",
       "      <td>10257</td>\n",
       "      <td>Italy</td>\n",
       "    </tr>\n",
       "    <tr>\n",
       "      <th>5</th>\n",
       "      <td>13274</td>\n",
       "      <td>Netherlands</td>\n",
       "    </tr>\n",
       "    <tr>\n",
       "      <th>6</th>\n",
       "      <td>15722</td>\n",
       "      <td>Poland</td>\n",
       "    </tr>\n",
       "    <tr>\n",
       "      <th>7</th>\n",
       "      <td>17642</td>\n",
       "      <td>Portugal</td>\n",
       "    </tr>\n",
       "    <tr>\n",
       "      <th>8</th>\n",
       "      <td>19694</td>\n",
       "      <td>Scotland</td>\n",
       "    </tr>\n",
       "    <tr>\n",
       "      <th>9</th>\n",
       "      <td>21518</td>\n",
       "      <td>Spain</td>\n",
       "    </tr>\n",
       "    <tr>\n",
       "      <th>10</th>\n",
       "      <td>24558</td>\n",
       "      <td>Switzerland</td>\n",
       "    </tr>\n",
       "  </tbody>\n",
       "</table>\n",
       "</div>"
      ],
      "text/plain": [
       "    country_id country_name\n",
       "0            1      Belgium\n",
       "1         1729      England\n",
       "2         4769       France\n",
       "3         7809      Germany\n",
       "4        10257        Italy\n",
       "5        13274  Netherlands\n",
       "6        15722       Poland\n",
       "7        17642     Portugal\n",
       "8        19694     Scotland\n",
       "9        21518        Spain\n",
       "10       24558  Switzerland"
      ]
     },
     "execution_count": 764,
     "metadata": {},
     "output_type": "execute_result"
    }
   ],
   "source": [
    "# changing both id and name columns for the country data\n",
    "country=col_rename(country, col_old=['name', 'id'], col_new=['country_name', 'country_id']) \n",
    "country "
   ]
  },
  {
   "cell_type": "code",
   "execution_count": 765,
   "metadata": {},
   "outputs": [
    {
     "data": {
      "text/html": [
       "<div>\n",
       "<style scoped>\n",
       "    .dataframe tbody tr th:only-of-type {\n",
       "        vertical-align: middle;\n",
       "    }\n",
       "\n",
       "    .dataframe tbody tr th {\n",
       "        vertical-align: top;\n",
       "    }\n",
       "\n",
       "    .dataframe thead th {\n",
       "        text-align: right;\n",
       "    }\n",
       "</style>\n",
       "<table border=\"1\" class=\"dataframe\">\n",
       "  <thead>\n",
       "    <tr style=\"text-align: right;\">\n",
       "      <th></th>\n",
       "      <th>league_id</th>\n",
       "      <th>country_id</th>\n",
       "      <th>league_name</th>\n",
       "    </tr>\n",
       "  </thead>\n",
       "  <tbody>\n",
       "    <tr>\n",
       "      <th>0</th>\n",
       "      <td>1</td>\n",
       "      <td>1</td>\n",
       "      <td>Belgium Jupiler League</td>\n",
       "    </tr>\n",
       "    <tr>\n",
       "      <th>1</th>\n",
       "      <td>1729</td>\n",
       "      <td>1729</td>\n",
       "      <td>England Premier League</td>\n",
       "    </tr>\n",
       "    <tr>\n",
       "      <th>2</th>\n",
       "      <td>4769</td>\n",
       "      <td>4769</td>\n",
       "      <td>France Ligue 1</td>\n",
       "    </tr>\n",
       "    <tr>\n",
       "      <th>3</th>\n",
       "      <td>7809</td>\n",
       "      <td>7809</td>\n",
       "      <td>Germany Bundesliga 1</td>\n",
       "    </tr>\n",
       "    <tr>\n",
       "      <th>4</th>\n",
       "      <td>10257</td>\n",
       "      <td>10257</td>\n",
       "      <td>Italy Serie A</td>\n",
       "    </tr>\n",
       "    <tr>\n",
       "      <th>5</th>\n",
       "      <td>13274</td>\n",
       "      <td>13274</td>\n",
       "      <td>Netherlands Eredivisie</td>\n",
       "    </tr>\n",
       "    <tr>\n",
       "      <th>6</th>\n",
       "      <td>15722</td>\n",
       "      <td>15722</td>\n",
       "      <td>Poland Ekstraklasa</td>\n",
       "    </tr>\n",
       "    <tr>\n",
       "      <th>7</th>\n",
       "      <td>17642</td>\n",
       "      <td>17642</td>\n",
       "      <td>Portugal Liga ZON Sagres</td>\n",
       "    </tr>\n",
       "    <tr>\n",
       "      <th>8</th>\n",
       "      <td>19694</td>\n",
       "      <td>19694</td>\n",
       "      <td>Scotland Premier League</td>\n",
       "    </tr>\n",
       "    <tr>\n",
       "      <th>9</th>\n",
       "      <td>21518</td>\n",
       "      <td>21518</td>\n",
       "      <td>Spain LIGA BBVA</td>\n",
       "    </tr>\n",
       "    <tr>\n",
       "      <th>10</th>\n",
       "      <td>24558</td>\n",
       "      <td>24558</td>\n",
       "      <td>Switzerland Super League</td>\n",
       "    </tr>\n",
       "  </tbody>\n",
       "</table>\n",
       "</div>"
      ],
      "text/plain": [
       "    league_id  country_id               league_name\n",
       "0           1           1    Belgium Jupiler League\n",
       "1        1729        1729    England Premier League\n",
       "2        4769        4769            France Ligue 1\n",
       "3        7809        7809      Germany Bundesliga 1\n",
       "4       10257       10257             Italy Serie A\n",
       "5       13274       13274    Netherlands Eredivisie\n",
       "6       15722       15722        Poland Ekstraklasa\n",
       "7       17642       17642  Portugal Liga ZON Sagres\n",
       "8       19694       19694   Scotland Premier League\n",
       "9       21518       21518           Spain LIGA BBVA\n",
       "10      24558       24558  Switzerland Super League"
      ]
     },
     "execution_count": 765,
     "metadata": {},
     "output_type": "execute_result"
    }
   ],
   "source": [
    "# changing the name column and id column  for the league data\n",
    "league=col_rename(league, col_old=['name', 'id'], col_new=['league_name', 'league_id']) \n",
    "league"
   ]
  },
  {
   "cell_type": "code",
   "execution_count": null,
   "metadata": {},
   "outputs": [],
   "source": [
    "# merging the two dataframes country and league\n",
    "country_league_info=merging_data(country, league, on_col ='country_id')\n",
    "country_league_info"
   ]
  },
  {
   "cell_type": "markdown",
   "metadata": {},
   "source": [
    "Second, I want to merge the player data to player attributes data into player_info dataframe.\n",
    "I will use either the player_api_id or player_fifa_api_id as the keys and drop the id columns in both datasets\n"
   ]
  },
  {
   "cell_type": "code",
   "execution_count": null,
   "metadata": {},
   "outputs": [],
   "source": [
    "# checking the number of unique values of player_api_id on payer and player attribute data\n",
    "player.player_api_id.nunique()==player_attr.player_api_id.nunique()"
   ]
  },
  {
   "cell_type": "code",
   "execution_count": null,
   "metadata": {},
   "outputs": [],
   "source": [
    "# checking the number of unique values of  player_fifa_api_id on player and player attribute data\n",
    "player.player_fifa_api_id.nunique()==player_attr.player_fifa_api_id.nunique()"
   ]
  },
  {
   "cell_type": "markdown",
   "metadata": {},
   "source": [
    "Since the number of unique values of the player_fifa_api_id are not the same in both dataframes, I will just use both of them as the key because both the ids might be important in merging this data with another one"
   ]
  },
  {
   "cell_type": "code",
   "execution_count": null,
   "metadata": {},
   "outputs": [],
   "source": [
    "# dropping id column from player dataframe\n",
    "drop_cols(player, col_name='id')\n",
    "player.head()"
   ]
  },
  {
   "cell_type": "code",
   "execution_count": null,
   "metadata": {},
   "outputs": [],
   "source": [
    "# dropping id column from player_attr dataframe\n",
    "drop_cols(player_attr, col_name='id')\n",
    "player_attr.shape"
   ]
  },
  {
   "cell_type": "code",
   "execution_count": null,
   "metadata": {},
   "outputs": [],
   "source": [
    "# removing duplicates for player attribute data\n",
    "remove_duplicates(player_attr, col='')\n",
    "player_attr.sort_values(['player_api_id', 'date']) # sorting the players by id and date"
   ]
  },
  {
   "cell_type": "code",
   "execution_count": null,
   "metadata": {},
   "outputs": [],
   "source": [
    "# joining the two dataframes on player_api_id and player_fifa_api_id using inner join because i dont want the unmatched rows\n",
    "player_info=merging_data(player, player_attr, on_col =['player_api_id', 'player_fifa_api_id'])\n",
    "player_info"
   ]
  },
  {
   "cell_type": "markdown",
   "metadata": {},
   "source": [
    "I now want o examine the player_info dataframe, check for missing values, dimensions of each column, data types of each column as well as duplcate values"
   ]
  },
  {
   "cell_type": "code",
   "execution_count": null,
   "metadata": {},
   "outputs": [],
   "source": [
    "player_info.info()"
   ]
  },
  {
   "cell_type": "markdown",
   "metadata": {},
   "source": [
    "From the above uotput, there are several missing values, the data type for birthday and date are all strings. I have also noted that attacking_work_rate has the least number of rows hence maximum number of missing values"
   ]
  },
  {
   "cell_type": "code",
   "execution_count": null,
   "metadata": {},
   "outputs": [],
   "source": [
    "# getting the uniques for the coulmn attacking_work_rate\n",
    "player_info.attacking_work_rate.unique()"
   ]
  },
  {
   "cell_type": "markdown",
   "metadata": {},
   "source": [
    "I want to drop all rows with nan and duplicate rows"
   ]
  },
  {
   "cell_type": "code",
   "execution_count": null,
   "metadata": {},
   "outputs": [],
   "source": [
    "# dropping all rows with missing data\n",
    "remove_row_missing_values(player_info) "
   ]
  },
  {
   "cell_type": "code",
   "execution_count": null,
   "metadata": {},
   "outputs": [],
   "source": [
    "# dropping duplicate rows\n",
    "remove_duplicates(player_info, col='')"
   ]
  },
  {
   "cell_type": "code",
   "execution_count": null,
   "metadata": {},
   "outputs": [],
   "source": [
    "player_info.info()"
   ]
  },
  {
   "cell_type": "code",
   "execution_count": null,
   "metadata": {},
   "outputs": [],
   "source": [
    "player_info.attacking_work_rate.value_counts()"
   ]
  },
  {
   "cell_type": "code",
   "execution_count": null,
   "metadata": {},
   "outputs": [],
   "source": [
    "player_info.defensive_work_rate.value_counts()"
   ]
  },
  {
   "cell_type": "markdown",
   "metadata": {},
   "source": [
    "From the output in above two cells, no information has been provided from the data description about the meaning of None, norm, y, stoc, le, ornal, es, tocky, ean o, and the numbers 0, 1, 2, 3, 4, 5, 6, 7, 8, and 9 . Howerver, from inspection, I realize that there is some association in that all the numbers 0-9 and o on the defensive_work_rate relates to None  on the attacking_work_rate. Also, the following  pairs also relate: norm-ornal, y-es, stoc-tocky, le-ean. These could be change or transformed if additional information is provided or simply be dropped from the analysis"
   ]
  },
  {
   "cell_type": "code",
   "execution_count": null,
   "metadata": {},
   "outputs": [],
   "source": [
    "attacking_none=player_info.query('attacking_work_rate==\"None\"')\n",
    "attacking_none"
   ]
  },
  {
   "cell_type": "code",
   "execution_count": null,
   "metadata": {},
   "outputs": [],
   "source": [
    "# comparing length of numbers 0-9 and o in the defensive_work_rate relates to None in the attacking_work_rate\n",
    "\n",
    "attacking_none.attacking_work_rate.value_counts()==attacking_none.defensive_work_rate.value_counts().sum()"
   ]
  },
  {
   "cell_type": "markdown",
   "metadata": {},
   "source": [
    "I want to change the data types for birthday and date from string to datetime"
   ]
  },
  {
   "cell_type": "code",
   "execution_count": null,
   "metadata": {},
   "outputs": [],
   "source": [
    "# converting birthday column into datetime\n",
    "changed_type(player_info, col_type='birthday')"
   ]
  },
  {
   "cell_type": "code",
   "execution_count": null,
   "metadata": {},
   "outputs": [],
   "source": [
    "# converting date column into datetime\n",
    "changed_type(player_info, col_type='date')"
   ]
  },
  {
   "cell_type": "code",
   "execution_count": null,
   "metadata": {},
   "outputs": [],
   "source": [
    "player_info.info()"
   ]
  },
  {
   "cell_type": "markdown",
   "metadata": {},
   "source": [
    "Third, I want merge team data to team attributes data into into team info dataframe, check data types, missing values"
   ]
  },
  {
   "cell_type": "code",
   "execution_count": null,
   "metadata": {},
   "outputs": [],
   "source": [
    "# checking the number of unique values of team_api_id in team and team attribute data\n",
    "team.team_api_id.nunique()==team_attr.team_api_id.nunique()"
   ]
  },
  {
   "cell_type": "code",
   "execution_count": null,
   "metadata": {},
   "outputs": [],
   "source": [
    "# checking the number of unique values of team_fifa_api_id in team and team attribute data\n",
    "team.team_fifa_api_id.nunique()==team_attr.team_fifa_api_id.nunique()"
   ]
  },
  {
   "cell_type": "markdown",
   "metadata": {},
   "source": [
    "From these outputs, it is clear that neither the team_api_id nor the team_fifa_api_id matches in the two datasets. I will therefore merge them on both the team_api_id and team_fifa_api_id as the keys"
   ]
  },
  {
   "cell_type": "code",
   "execution_count": null,
   "metadata": {},
   "outputs": [],
   "source": [
    "team"
   ]
  },
  {
   "cell_type": "code",
   "execution_count": null,
   "metadata": {},
   "outputs": [],
   "source": [
    "# dropping the id for team dataframe\n",
    "drop_cols(team, col_name='id').drop_duplicates(subset='team_api_id')"
   ]
  },
  {
   "cell_type": "code",
   "execution_count": null,
   "metadata": {},
   "outputs": [],
   "source": [
    "team.team_long_name.unique()"
   ]
  },
  {
   "cell_type": "markdown",
   "metadata": {},
   "source": [
    "I want to correct the following team names: '1. FC Köln', '1. FC Nürnberg', '1. FSV Mainz 05','1. FC Kaiserslautern'"
   ]
  },
  {
   "cell_type": "code",
   "execution_count": 684,
   "metadata": {},
   "outputs": [],
   "source": [
    "# correcting some team names\n",
    "team.team_long_name.replace(to_replace=['1. FC Köln', '1. FC Nürnberg', '1. FSV Mainz 05','1. FC Kaiserslautern'], \n",
    "                            value=['FC Köln', 'FC Nürnberg', 'FSV Mainz 05','FC Kaiserslautern'], inplace=True)"
   ]
  },
  {
   "cell_type": "code",
   "execution_count": null,
   "metadata": {},
   "outputs": [],
   "source": [
    "team_attr.dropna(how='any').drop_duplicates(subset='team_api_id')"
   ]
  },
  {
   "cell_type": "code",
   "execution_count": null,
   "metadata": {},
   "outputs": [],
   "source": [
    "# dropping the id for team attributes data\n",
    "drop_cols(team_attr, col_name='id')"
   ]
  },
  {
   "cell_type": "code",
   "execution_count": null,
   "metadata": {},
   "outputs": [],
   "source": [
    "# merging team to the team attribute\n",
    "team_info=team.merge(team_attr, on =['team_api_id', 'team_fifa_api_id'], how='inner') #\n",
    "team_info['team_fifa_api_id']=team_info['team_fifa_api_id'].astype(int)\n",
    "team_info.head()"
   ]
  },
  {
   "cell_type": "markdown",
   "metadata": {},
   "source": [
    "I will populate the NaN in the buildUpPlayDribbling column with the mean of the column. And finally drop duplcates in the final dataframe"
   ]
  },
  {
   "cell_type": "code",
   "execution_count": 688,
   "metadata": {},
   "outputs": [],
   "source": [
    "# getting the mean of buildUpPlayDribbling column\n",
    "#mean=team_info.buildUpPlayDribbling.mean()\n",
    "\n",
    "# filling the NaNs in the buildUpPlayDribbling by the mean\n",
    "#team_info['buildUpPlayDribbling']=team_info['buildUpPlayDribbling'].fillna(mean)"
   ]
  },
  {
   "cell_type": "code",
   "execution_count": null,
   "metadata": {},
   "outputs": [],
   "source": [
    "# converting to datetime\n",
    "changed_type(team_info, col_type='date')"
   ]
  },
  {
   "cell_type": "code",
   "execution_count": null,
   "metadata": {},
   "outputs": [],
   "source": [
    "# dropping the duplicate rows in the final team info merged data\n",
    "team_info=team_info.copy()\n",
    "drop_cols(team_info, col_name=['team_fifa_api_id',])\n",
    "team_info.drop_duplicates(subset='team_api_id')\n",
    "team_info.dropna(how='any', inplace=True)\n",
    "#remove_duplicates(team_info, col='')\n",
    "team_info.head(5)"
   ]
  },
  {
   "cell_type": "markdown",
   "metadata": {},
   "source": [
    "Finally, I to examine and merge match data, country_league, and team data to form march info dataframe. I will check for duplicates, missing values and correct data types"
   ]
  },
  {
   "cell_type": "code",
   "execution_count": null,
   "metadata": {},
   "outputs": [],
   "source": [
    "# checking the number of league_id unique values in the match and country_league_info dataframes\n",
    "match.league_id.nunique()==country_league_info.league_id.nunique()"
   ]
  },
  {
   "cell_type": "code",
   "execution_count": null,
   "metadata": {},
   "outputs": [],
   "source": [
    "# checking the number of country_id unique values in the match and country_league_info dataframes\n",
    "match.country_id.nunique()==country_league_info.country_id.nunique()"
   ]
  },
  {
   "cell_type": "markdown",
   "metadata": {},
   "source": [
    "I will merge match and country_league_info dataframes on league_id and country_id, so that I retain all the info about ids. I want to drop all the columns containing odds"
   ]
  },
  {
   "cell_type": "code",
   "execution_count": null,
   "metadata": {},
   "outputs": [],
   "source": [
    "for i in match.columns:\n",
    "    print(i)"
   ]
  },
  {
   "cell_type": "markdown",
   "metadata": {},
   "source": [
    "I want to remove all the columns with CAPITAL LETTERS, odds columns"
   ]
  },
  {
   "cell_type": "code",
   "execution_count": null,
   "metadata": {},
   "outputs": [],
   "source": [
    "# converting to datetime for the match data\n",
    "changed_type(match, col_type='date').head(5)"
   ]
  },
  {
   "cell_type": "code",
   "execution_count": null,
   "metadata": {},
   "outputs": [],
   "source": [
    "# dropping the duplicate rows from match data\n",
    "remove_duplicates(match, col='').head(5)"
   ]
  },
  {
   "cell_type": "code",
   "execution_count": null,
   "metadata": {},
   "outputs": [],
   "source": [
    "# dropping the columns containg odds and the match id\n",
    "odd_cols = list(filter(lambda x: x.isupper(), match.columns))\n",
    "drop_cols(match, col_name=odd_cols)\n",
    "drop_cols(match, col_name='id')\n",
    "match.head(5)"
   ]
  },
  {
   "cell_type": "code",
   "execution_count": null,
   "metadata": {},
   "outputs": [],
   "source": [
    "match.columns"
   ]
  },
  {
   "cell_type": "markdown",
   "metadata": {},
   "source": [
    "### checking the contents of some columns\n",
    "```match.goal.value_counts() # goal```"
   ]
  },
  {
   "cell_type": "markdown",
   "metadata": {},
   "source": [
    "From the above two cells, I realised that the coulmns goal, shoton, shotoff, foulcommit, card, cross, corner and possession contains information related to the web page but not realistic data.Checking through the nested infomation, I can't really make sense out of it since even the website link to the discription is not loading. Instead of deleting the columns with such issues, I will instead drop the columns containing unprocessed data"
   ]
  },
  {
   "cell_type": "code",
   "execution_count": null,
   "metadata": {},
   "outputs": [],
   "source": [
    "match.columns\n",
    "match_info=filter_col(match, col=['country_id', 'league_id', 'season', 'stage', 'date', 'match_api_id', 'home_team_api_id', 'away_team_api_id', 'home_team_goal', 'away_team_goal'])\n",
    "\n",
    "match_info.head(5)"
   ]
  },
  {
   "cell_type": "code",
   "execution_count": null,
   "metadata": {},
   "outputs": [],
   "source": [
    "match_info['results'] = np.where(\n",
    "    match_info['home_team_goal'] == match_info['away_team_goal'], 'draw',\n",
    "    np.where(\n",
    "        match_info['home_team_goal'] > match_info['away_team_goal'], 'home win', 'away win'\n",
    "    )\n",
    ")\n",
    "\n",
    "match_info.head(5)"
   ]
  },
  {
   "cell_type": "code",
   "execution_count": null,
   "metadata": {},
   "outputs": [],
   "source": [
    "# Merging the data\n",
    "match_info=merging_data(country_league_info, match_info, on_col =['country_id', 'league_id'])\n",
    "match_info"
   ]
  },
  {
   "cell_type": "code",
   "execution_count": null,
   "metadata": {},
   "outputs": [],
   "source": [
    "match_info=match_info.drop(columns=['country_id', 'league_id'])\n",
    "match_info.head(5)"
   ]
  },
  {
   "cell_type": "code",
   "execution_count": null,
   "metadata": {},
   "outputs": [],
   "source": [
    "# melt home and away teams id_vars are columns not melted\n",
    "# creating columns not melted\n",
    "unmelted_columns= [x for x in match_info.columns if x not in ['home_team_api_id', 'away_team_api_id']]\n",
    "\n",
    "# melting home and away teams api ids\n",
    "melted_match=match_info.melt(id_vars=unmelted_columns, var_name='Location', value_name='Team')\n",
    "melted_match.head(5)"
   ]
  },
  {
   "cell_type": "code",
   "execution_count": 703,
   "metadata": {},
   "outputs": [],
   "source": [
    "# cleaning up or changing the location values\n",
    "melted_match['Location']=melted_match['Location'].replace({'home_team_api_id':'home', 'away_team_api_id':'away'})\n",
    "melted_df=melted_match.copy()\n"
   ]
  },
  {
   "cell_type": "markdown",
   "metadata": {},
   "source": [
    "### merging the team_info to the melted_match"
   ]
  },
  {
   "cell_type": "code",
   "execution_count": null,
   "metadata": {},
   "outputs": [],
   "source": [
    "exclude_columns = ['team_long_name', 'team_short_name', 'date']\n",
    "team_info = team_info.drop(columns=exclude_columns).drop_duplicates(subset='team_api_id')\n",
    "\n",
    "team_info.head(5)\n"
   ]
  },
  {
   "cell_type": "code",
   "execution_count": 705,
   "metadata": {},
   "outputs": [],
   "source": [
    "team_info.rename(columns={'team_api_id':'Team'}, inplace=True)\n",
    "team_s=team_info.copy()"
   ]
  },
  {
   "cell_type": "code",
   "execution_count": null,
   "metadata": {},
   "outputs": [],
   "source": [
    "\n",
    "melted_match=pd.merge(melted_df, team_s, on ='Team', how='left')\n",
    "#melted_match.drop_duplicates(subset='match_api_id' , inplace=True)\n",
    "melted_match.head(5)\n"
   ]
  },
  {
   "cell_type": "code",
   "execution_count": null,
   "metadata": {},
   "outputs": [],
   "source": [
    "# creating team dictionary with team api ids as the key and a longname as the value\n",
    "team_dict=team.set_index('team_api_id')['team_long_name'].to_dict()\n",
    "team_dict"
   ]
  },
  {
   "cell_type": "code",
   "execution_count": null,
   "metadata": {},
   "outputs": [],
   "source": [
    "# cleaning up team i.e. using team dictionary to replace team api ids\n",
    "melted_match['Team']=melted_match['Team'].map(team_dict)\n",
    "melted_match.head(5)"
   ]
  },
  {
   "cell_type": "code",
   "execution_count": null,
   "metadata": {},
   "outputs": [],
   "source": [
    "# creating goals column\n",
    "melted_match['goals']=np.where(melted_match['Location']=='home',melted_match['home_team_goal'], melted_match['away_team_goal'])\n",
    "melted_match.head(5)"
   ]
  },
  {
   "cell_type": "code",
   "execution_count": null,
   "metadata": {},
   "outputs": [],
   "source": [
    "melted_match['pts'] = np.where(\n",
    "    melted_match['results'] == 'draw', 1, \n",
    "    np.where(\n",
    "        (melted_match['results'] == 'away win') & (melted_match['Location'] == 'home'), 0, \n",
    "        np.where(\n",
    "            (melted_match['results'] == 'home win') & (melted_match['Location'] == 'away'), 0, 3\n",
    "        )\n",
    "    )\n",
    ")\n",
    "\n",
    "# Display the DataFrame\n",
    "melted_match.head()\n"
   ]
  },
  {
   "cell_type": "code",
   "execution_count": null,
   "metadata": {},
   "outputs": [],
   "source": [
    "melted_match.sort_values(by=['match_api_id', 'season'])\n",
    "melted_match.drop_duplicates() #subset='match_api_id', inplace=True\n",
    "melted_match.dropna(how='any')\n",
    "melted_match.sort_values(by='match_api_id', ascending=True)"
   ]
  },
  {
   "cell_type": "code",
   "execution_count": null,
   "metadata": {},
   "outputs": [],
   "source": [
    "# Goals For for the home team\n",
    "melted_match['GF'] = np.where(\n",
    "    # Case 1\n",
    "    (melted_match['Location'] == 'home') & (melted_match['results'] == 'home win'),  \n",
    "    melted_match['goals'],  \n",
    "    np.where(\n",
    "        # Case 2\n",
    "        (melted_match['Location'] == 'home') & (melted_match['results'] == 'away win'),  \n",
    "        melted_match['goals'],  \n",
    "\n",
    "        np.where(\n",
    "            # Case 3\n",
    "            (melted_match['Location'] == 'away') & (melted_match['results'] == 'home win'),  \n",
    "            melted_match['goals'],  \n",
    "\n",
    "            np.where(\n",
    "                # Case 4\n",
    "                (melted_match['Location'] == 'home') & (melted_match['results'] == 'draw'),  \n",
    "                melted_match['goals'],  \n",
    "\n",
    "                np.where(\n",
    "                    # Case 5\n",
    "                    (melted_match['Location'] == 'away') & (melted_match['results'] == 'draw'),  \n",
    "                    melted_match['goals'],  \n",
    "\n",
    "                    np.where(\n",
    "                        # Case 6\n",
    "                        (melted_match['Location'] == 'away') & (melted_match['results'] == 'away win'),  \n",
    "                        melted_match['goals'], \n",
    "\n",
    "                        0  # If none of the conditions are met, GF is 0 for the home team\n",
    "                    )\n",
    "                )\n",
    "            )\n",
    "        )\n",
    "    )\n",
    ")\n",
    "\n",
    "melted_match.head(5)"
   ]
  },
  {
   "cell_type": "code",
   "execution_count": null,
   "metadata": {},
   "outputs": [],
   "source": [
    "# Goals Against for the home team\n",
    "melted_match['GA'] = np.where(\n",
    "    # Case 1\n",
    "    (melted_match['Location'] == 'home') & (melted_match['results'] == 'home win'),  \n",
    "    melted_match['away_team_goal'], \n",
    "\n",
    "    np.where(\n",
    "        # Case 2 \n",
    "        (melted_match['Location'] == 'away') & (melted_match['results'] == 'home win'),  \n",
    "        melted_match['home_team_goal'],  \n",
    "        np.where(\n",
    "            # Case 3\n",
    "            (melted_match['Location'] == 'home') & (melted_match['results'] == 'draw'),  \n",
    "            melted_match['away_team_goal'],  \n",
    "            np.where(\n",
    "                # Case 4\n",
    "                (melted_match['Location'] == 'away') & (melted_match['results'] == 'draw'),  \n",
    "                melted_match['home_team_goal'], \n",
    "\n",
    "                np.where(\n",
    "                    # Case 5\n",
    "                    (melted_match['Location'] == 'away') & (melted_match['results'] == 'away win'),  \n",
    "                    melted_match['home_team_goal'],  \n",
    "\n",
    "                    np.where(\n",
    "                        # Case 6\n",
    "                        (melted_match['Location'] == 'away') & (melted_match['results'] == 'home win'),  \n",
    "                        melted_match['home_team_goal'],  \n",
    "\n",
    "                        np.where(\n",
    "                        # Case 7\n",
    "                        (melted_match['Location'] == 'home') & (melted_match['results'] == 'away win'),  \n",
    "                        melted_match['away_team_goal'],  \n",
    "\n",
    "                        0  # Default case (if none of the above conditions are met\n",
    "                        )\n",
    "\n",
    "                    )\n",
    "                )\n",
    "            )\n",
    "        )\n",
    "    )\n",
    ")\n",
    "\n",
    "melted_match.head(5)"
   ]
  },
  {
   "cell_type": "code",
   "execution_count": null,
   "metadata": {},
   "outputs": [],
   "source": [
    "# Calculate Goal Difference\n",
    "melted_match['GD'] = melted_match['GF'] - melted_match['GA']\n",
    "melted_match.head(5)"
   ]
  },
  {
   "cell_type": "markdown",
   "metadata": {},
   "source": [
    "<a id='eda'></a>\n",
    "## Exploratory Data Analysis"
   ]
  },
  {
   "cell_type": "markdown",
   "metadata": {},
   "source": [
    "### creating a function to plot different visualizations"
   ]
  },
  {
   "cell_type": "code",
   "execution_count": 715,
   "metadata": {},
   "outputs": [],
   "source": [
    "def plot_visual(data, data2, visual_type):\n",
    "    if visual_type=='barh':\n",
    "        data.plot(kind='barh', rot=0, width=0.7, alpha=0.8, color='grey', figsize=[8,20] ) # i want to creat horizontal bars\n",
    "            \n",
    "    elif visual_type=='hist':\n",
    "        fig,vis=plt.subplots(figsize=[10,8])\n",
    "        vis.hist(data, alpha=0.8, bins=40) # creating a histogram\n",
    "        #plt.grid(axis='y', alpha=0.6) # grid\n",
    "            \n",
    "    elif visual_type=='boxplot':\n",
    "        fig,vis=plt.subplots(figsize=[8,4])\n",
    "        vis.boxplot(data, vert=0) # creating a box plot\n",
    "        #plt.grid(axis='x', alpha=0.6)\n",
    "                     \n",
    "    else:\n",
    "        fig, vis=plt.subplots(figsize=[10,8])\n",
    "        plt.scatter(x=data, y=data2, alpha=0.8, color='blue') # creating scatter"
   ]
  },
  {
   "cell_type": "code",
   "execution_count": null,
   "metadata": {},
   "outputs": [],
   "source": [
    "# checking the distribution of goals in the seasons\n",
    "goals_08_to_16=melted_match.groupby(['season', 'Team'])['goals'].sum() #query('season in [\"2008/2009\", \"2015/2016\"]')\n",
    "# plot histogram\n",
    "plot_visual(data=goals_08_to_16, data2='', visual_type='hist')\n",
    "plt.title('HISTOGRAM')\n",
    "plt.xlabel('bins')\n",
    "plt.ylabel('No of goals scored in the season');"
   ]
  },
  {
   "cell_type": "markdown",
   "metadata": {},
   "source": [
    "The graph shows that the distribution of goals is right screwed. Further investigation can be shown on the boxplot"
   ]
  },
  {
   "cell_type": "code",
   "execution_count": null,
   "metadata": {},
   "outputs": [],
   "source": [
    "# plot box plot\n",
    "plot_visual(data=goals_08_to_16, data2='', visual_type='boxplot')\n",
    "plt.title('SEASON 2008/2009 - 2015/2016 BOXPLOT')\n",
    "plt.xlabel('No of goals scored');\n",
    "#plt.ylabel('2008/2009 and 2015/2015 season');"
   ]
  },
  {
   "cell_type": "markdown",
   "metadata": {},
   "source": [
    "The distribution is rght skewed but with severa outliers"
   ]
  },
  {
   "cell_type": "markdown",
   "metadata": {},
   "source": [
    "### Research Question 1 What is the league table for the 4 major leagues in europe during 2015/2016 season? "
   ]
  },
  {
   "cell_type": "code",
   "execution_count": null,
   "metadata": {},
   "outputs": [],
   "source": [
    "melted_match['league_name'].value_counts()"
   ]
  },
  {
   "cell_type": "code",
   "execution_count": 719,
   "metadata": {},
   "outputs": [],
   "source": [
    "columns_order = ['Pos', 'season', 'league_name', 'Club', 'MP', 'W', 'D', 'L', 'Pts', 'GF', 'GA', 'GD', 'avg_goals']\n",
    "filtered_columns= ['Pos', 'Club', 'MP', 'W', 'D', 'L', 'Pts', 'GF', 'GA', 'GD', 'avg_goals']\n",
    "\n",
    "def league_table(league):\n",
    "    # Filter the data for the given league and season\n",
    "    df_15_16 = (\n",
    "        melted_match\n",
    "        .query('season == \"2015/2016\" and league_name == @league')  \n",
    "        .groupby(['season', 'league_name', 'Team'], as_index=False)\n",
    "        .agg({\n",
    "            'match_api_id': 'count',  # Total matches played\n",
    "            'pts': [\n",
    "                lambda x: (x == 3).sum(),  # Wins\n",
    "                lambda x: (x == 1).sum(),  # Draws\n",
    "                lambda x: (x == 0).sum(),  # Losses\n",
    "                'sum'  # Total points\n",
    "            ],\n",
    "            'GF': 'sum',\n",
    "            'GA': 'sum',\n",
    "            'GD': 'sum',\n",
    "            'goals': 'mean',  # Average goals\n",
    "        })\n",
    "    )\n",
    "\n",
    "    # Flatten the column names\n",
    "    df_15_16.columns = [\n",
    "        'season', 'league_name', 'Club', 'MP', \n",
    "        'W', 'D', 'L', 'Pts', 'GF', 'GA', 'GD', 'avg_goals'\n",
    "    ]\n",
    "\n",
    "    # Sort the result by Pts and GD\n",
    "    df_15_16 = df_15_16.sort_values(by=['Pts', 'GD'], ascending=[False, False])\n",
    "\n",
    "    # Add a Rank column\n",
    "    df_15_16['Pos'] = df_15_16.reset_index().index + 1\n",
    "\n",
    "    # Reorder columns \n",
    "    df_15_16 = df_15_16[columns_order].reset_index()\n",
    "\n",
    "    # filter columns\n",
    "    df_15_16  = df_15_16[filtered_columns]\n",
    "\n",
    "\n",
    "    return df_15_16"
   ]
  },
  {
   "cell_type": "code",
   "execution_count": null,
   "metadata": {},
   "outputs": [],
   "source": [
    "# England Premier League Table for 2015/2016 season\n",
    "league_table(league=\"England Premier League\")"
   ]
  },
  {
   "cell_type": "code",
   "execution_count": null,
   "metadata": {},
   "outputs": [],
   "source": [
    "# France Ligue 1 Table for 2015/2016 season\n",
    "league_table(league=\"France Ligue 1\")"
   ]
  },
  {
   "cell_type": "code",
   "execution_count": null,
   "metadata": {},
   "outputs": [],
   "source": [
    "# Spain LIGA BBVA Table for 2015/2016 season\n",
    "league_table(league=\"Spain LIGA BBVA\")"
   ]
  },
  {
   "cell_type": "code",
   "execution_count": null,
   "metadata": {},
   "outputs": [],
   "source": [
    "# Italy Serie A Table for 2015/2016 season\n",
    "league_table(league=\"Italy Serie A\")"
   ]
  },
  {
   "cell_type": "markdown",
   "metadata": {},
   "source": [
    "### Saving for google Looker Studio"
   ]
  },
  {
   "cell_type": "code",
   "execution_count": null,
   "metadata": {},
   "outputs": [],
   "source": [
    "df_google_looker = (\n",
    "    melted_match\n",
    "    #.query('season == \"2009/2010\" and league_name == \"England Premier League\"')  # Filter for the specified season and league\n",
    "    .groupby(['season', 'league_name', 'Team'], as_index=False)\n",
    "    .agg({\n",
    "        'match_api_id': 'count',  # Total matches played\n",
    "        'pts': [\n",
    "            lambda x: (x == 3).sum(),  # Wins\n",
    "            lambda x: (x == 1).sum(),  # Draws\n",
    "            lambda x: (x == 0).sum(),  # Losses\n",
    "            'sum'  # Total points\n",
    "        ],\n",
    "        'GF': 'sum',\n",
    "        'GA': 'sum',\n",
    "        'GD': 'sum',\n",
    "        'goals': 'mean',  # Average goals\n",
    "    })\n",
    ")\n",
    "\n",
    "# Flatten the column names\n",
    "df_google_looker.columns = [\n",
    "    'season', 'league_name', 'Club', 'MP', \n",
    "    'W', 'D', 'L', 'Pts', 'GF', 'GA', 'GD', 'avg_goals'\n",
    "]\n",
    "\n",
    "# Sort the result by total_pts\n",
    "df_google_looker = df_google_looker.sort_values(by=['Pts', 'GD'], ascending=[False, False])\n",
    "\n",
    "df_google_looker.reset_index()"
   ]
  },
  {
   "cell_type": "code",
   "execution_count": 725,
   "metadata": {},
   "outputs": [],
   "source": [
    "df_google_looker.to_csv('league_table_for_lookerStudio.csv', index_label='Id')"
   ]
  },
  {
   "cell_type": "markdown",
   "metadata": {},
   "source": [
    "### Research Question 2 Which are the top 3 teams for each league in 2015/2016 season? "
   ]
  },
  {
   "cell_type": "code",
   "execution_count": null,
   "metadata": {},
   "outputs": [],
   "source": [
    "top_3_teams = (\n",
    "    melted_match\n",
    "    .query('season==\"2015/2016\"')  \n",
    "    .groupby(['season', 'league_name', 'Team'], as_index=False)['pts'] \n",
    "    .sum()\n",
    "    .sort_values(by=['season', 'league_name', 'pts'], ascending=[True, True, False])\n",
    "    .groupby(['season', 'league_name'], as_index=False)\n",
    "    .head(3)\n",
    "    #.sort_values(by='pts', ascending=False)\n",
    ")\n",
    "\n",
    "top_3_teams"
   ]
  },
  {
   "cell_type": "code",
   "execution_count": null,
   "metadata": {},
   "outputs": [],
   "source": [
    "plt.figure(figsize=(10, 8))\n",
    "\n",
    "# Create a bar plot\n",
    "sns.barplot(data=top_3_teams, x='pts', y='Team', hue='league_name', dodge=False)\n",
    "\n",
    "# Add labels and title\n",
    "plt.title('Top 3 Teams in Each League (2008/2009 Season)', fontsize=16)\n",
    "plt.xlabel('Points', fontsize=12)\n",
    "plt.ylabel('Teams', fontsize=12)\n",
    "\n",
    "# Add horizontal lines to separate leagues\n",
    "league_boundaries = top_3_teams.groupby('league_name')['Team'].count().cumsum().values[:-1]\n",
    "for boundary in league_boundaries:\n",
    "    plt.axhline(y=boundary - 0.5, color='black', linestyle='--', linewidth=1)\n",
    "\n",
    "# Add a legend\n",
    "plt.legend(title='League', fontsize=10, title_fontsize=10, loc='upper left', bbox_to_anchor=(1, 1))\n",
    "\n",
    "# Show the plot\n",
    "plt.tight_layout() # prevents the axes labels, titles, and ticks from overlapping with each other.\n",
    "plt.show()\n"
   ]
  },
  {
   "cell_type": "markdown",
   "metadata": {},
   "source": [
    "### Research Question 3 What teams improved the most over the time period? "
   ]
  },
  {
   "cell_type": "markdown",
   "metadata": {},
   "source": [
    "- We use Year-Over-Year Improvements (YoY)\n",
    "- The teams played different number of matches. We normalize Points Based on Total Matches Played\n",
    "- Then divide the points by the total matches played in each season. "
   ]
  },
  {
   "cell_type": "code",
   "execution_count": null,
   "metadata": {},
   "outputs": [],
   "source": [
    "# get the total points for each team per season\n",
    "match_imp08_16=melted_match.query(\n",
    "    'season in [\"2008/2009\", \"2009/2010\", \"2010/2011\", \"2011/2012\", \"2012/2013\", \"2013/2014\", \"2014/2015\", \"2015/2016\"]'\n",
    "    ).groupby(\n",
    "        ['season', 'Team'])['pts'].sum().unstack('season')\n",
    "\n",
    "match_imp08_16"
   ]
  },
  {
   "cell_type": "code",
   "execution_count": null,
   "metadata": {},
   "outputs": [],
   "source": [
    "# # get the total matches played for each team per season\n",
    "match_impp08_16=melted_match.query(\n",
    "    'season in [\"2008/2009\", \"2009/2010\", \"2010/2011\", \"2011/2012\", \"2012/2013\", \"2013/2014\", \"2014/2015\", \"2015/2016\"]'\n",
    "    ).groupby(\n",
    "        ['season', 'Team'])['match_api_id'].count().unstack('season')\n",
    "\n",
    "match_impp08_16"
   ]
  },
  {
   "cell_type": "code",
   "execution_count": null,
   "metadata": {},
   "outputs": [],
   "source": [
    "# divide points by number of matches played\n",
    "df_normalized=match_imp08_16/match_impp08_16\n",
    "df_normalized.dropna(how='any', inplace=True)\n",
    "df_normalized"
   ]
  },
  {
   "cell_type": "code",
   "execution_count": null,
   "metadata": {},
   "outputs": [],
   "source": [
    "# Calculate YoY improvements\n",
    "\n",
    "# Difference between consecutive seasons\n",
    "yoy_improvements = df_normalized.diff(axis=1)  \n",
    "\n",
    "# Add a column: total YoY improvement\n",
    "yoy_improvements['Total_YoY_Improvement'] = yoy_improvements.sum(axis=1)\n",
    "\n",
    "# Team with the maximum YoY improvement\n",
    "most_consistent_team = yoy_improvements['Total_YoY_Improvement'].idxmax()\n",
    "max_yoy_improvement = yoy_improvements.loc[most_consistent_team, 'Total_YoY_Improvement']\n",
    "\n",
    "# Results\n",
    "print(\"Year-over-Year Improvements Table:\")\n",
    "print(yoy_improvements)\n",
    "print(f\"The most consistent improver is {most_consistent_team} with a total YoY improvement of {max_yoy_improvement} points.\");"
   ]
  },
  {
   "cell_type": "code",
   "execution_count": null,
   "metadata": {},
   "outputs": [],
   "source": [
    "df_normalized['Total_YoY_Improvement']=(\n",
    "    (df_normalized['2009/2010'] - df_normalized['2008/2009']) +\n",
    "    (df_normalized['2010/2011'] - df_normalized['2009/2010']) +\n",
    "    (df_normalized['2011/2012'] - df_normalized['2010/2011']) +\n",
    "    (df_normalized['2012/2013'] - df_normalized['2011/2012']) +\n",
    "    (df_normalized['2013/2014'] - df_normalized['2012/2013']) +\n",
    "    (df_normalized['2014/2015'] - df_normalized['2013/2014']) +\n",
    "    (df_normalized['2015/2016'] - df_normalized['2014/2015'])\n",
    "    )\n",
    "\n",
    "df_normalized[df_normalized['Total_YoY_Improvement']>0].reset_index().sort_values(by='Total_YoY_Improvement', ascending=False)"
   ]
  },
  {
   "cell_type": "code",
   "execution_count": null,
   "metadata": {},
   "outputs": [],
   "source": [
    "# Create the lineplot\n",
    "plt.figure(figsize=(8, 8))\n",
    "sns.barplot(data=df_normalized,\n",
    "            #.reset_index()\n",
    "            #.sort_values(by='Total_YoY_Improvement', ascending=False), \n",
    "            y='Team', \n",
    "            x='Total_YoY_Improvement',\n",
    "            dodge=False)\n",
    "\n",
    "# Customize the chart\n",
    "plt.title('Most Improved Teams Accross Seasons', fontsize=16)\n",
    "plt.xlabel('Total_YoY_Improvement', fontsize=12)\n",
    "plt.ylabel('Teams', fontsize=12)\n",
    "#plt.xticks(rotation=45)\n",
    "#plt.legend(title='Teams', bbox_to_anchor=(1.05, 1), loc='upper left')\n",
    "plt.grid(axis='y', linestyle='--', alpha=0.7)\n",
    "\n",
    "# Show the plot\n",
    "plt.tight_layout()\n",
    "plt.show();"
   ]
  },
  {
   "cell_type": "code",
   "execution_count": null,
   "metadata": {},
   "outputs": [],
   "source": []
  },
  {
   "cell_type": "code",
   "execution_count": null,
   "metadata": {},
   "outputs": [],
   "source": []
  },
  {
   "cell_type": "code",
   "execution_count": null,
   "metadata": {},
   "outputs": [],
   "source": [
    "# Reset the index and melt the DataFrame for Seaborn-friendly format\n",
    "match_s08_15_melted = match_s08_15.reset_index().melt(id_vars='Team', var_name='Season', value_name='Points').groupby(['Team'])['Points'].mean(\n",
    "match_s08_15_melted=match_s08_15_melted.reset_index()\n",
    "df=match_s08_15_melted[match_s08_15_melted['Points']>60].sort_values(by='Points', ascending=False)\n",
    "df\n",
    "\n",
    "\n",
    "\n",
    "\n",
    "# Create the lineplot\n",
    "plt.figure(figsize=(12, 6))\n",
    "sns.barplot(data=df, y='Team', x='Points')\n",
    "\n",
    "# Customize the chart\n",
    "plt.title('Points by Teams Across Seasons', fontsize=16)\n",
    "plt.xlabel('Season', fontsize=12)\n",
    "plt.ylabel('Points', fontsize=12)\n",
    "plt.xticks(rotation=45)\n",
    "plt.legend(title='Teams', bbox_to_anchor=(1.05, 1), loc='upper left')\n",
    "plt.grid(axis='y', linestyle='--', alpha=0.7)\n",
    "\n",
    "# Show the plot\n",
    "plt.tight_layout()\n",
    "plt.show()"
   ]
  },
  {
   "cell_type": "code",
   "execution_count": null,
   "metadata": {},
   "outputs": [],
   "source": [
    "goal_08_16 = (\n",
    "    melted_match\n",
    "    .query('season == \"2009/2010\" and league_name == \"England Premier League\"')  # Filter for the specified season and league\n",
    "    .groupby(['season', 'league_name', 'Team'], as_index=False)\n",
    "    .agg({\n",
    "        'match_api_id': 'count',  # Total matches played\n",
    "        'pts': [\n",
    "            lambda x: (x == 3).sum(),  # Wins\n",
    "            lambda x: (x == 1).sum(),  # Draws\n",
    "            lambda x: (x == 0).sum(),  # Losses\n",
    "            'sum'  # Total points\n",
    "        ],\n",
    "        'GF': 'sum',\n",
    "        'GA': 'sum',\n",
    "        'GD': 'sum',\n",
    "        'goals': 'mean',  # Average goals\n",
    "    })\n",
    ")\n",
    "\n",
    "# Flatten the column names\n",
    "goal_08_16.columns = [\n",
    "    'season', 'league_name', 'Club', 'MP', \n",
    "    'W', 'D', 'L', 'Pts', 'GF', 'GA', 'GD', 'avg_goals'\n",
    "]\n",
    "\n",
    "# Sort the result by total_pts\n",
    "goal_08_16 = goal_08_16.sort_values(by=['season', 'league_name', 'Pts'], ascending=[True, True, False])\n",
    "\n",
    "goal_08_16"
   ]
  },
  {
   "cell_type": "code",
   "execution_count": null,
   "metadata": {},
   "outputs": [],
   "source": [
    "# Example bar chart\n",
    "plt.figure(figsize=(10, 6))\n",
    "sns.barplot(data=goal_08_16, x='Team', y='pts', hue='league_name', dodge=False)\n",
    "plt.title('Total Points by Team within Leagues')\n",
    "plt.xlabel('Team')\n",
    "plt.ylabel('Points')\n",
    "plt.xticks(rotation=45)\n",
    "plt.show()\n"
   ]
  },
  {
   "cell_type": "code",
   "execution_count": null,
   "metadata": {},
   "outputs": [],
   "source": [
    "# Pivot table for heatmap\n",
    "heatmap_data = goal_08_16.pivot('Team', 'league_name', 'pts')\n",
    "\n",
    "# Plot heatmap\n",
    "plt.figure(figsize=(10, 6))\n",
    "sns.heatmap(heatmap_data, annot=True, cmap='YlGnBu', fmt='.1f', linewidths=0.5)\n",
    "plt.title('Points Heatmap by Team and League')\n",
    "plt.xlabel('League Name')\n",
    "plt.ylabel('Team')\n",
    "plt.show()\n"
   ]
  },
  {
   "cell_type": "code",
   "execution_count": null,
   "metadata": {},
   "outputs": [],
   "source": [
    "# Filter for a specific league and season\n",
    "league_data = goal_08_16[goal_08_16['league_name'] == 'England Premier League']\n",
    "plt.figure(figsize=(8, 8))\n",
    "plt.pie(league_data['pts'], labels=league_data['Team'], autopct='%1.1f%%', startangle=140)\n",
    "plt.title('Points Contribution by Teams in League A (2015/2016)')\n",
    "plt.show()\n"
   ]
  },
  {
   "cell_type": "code",
   "execution_count": null,
   "metadata": {},
   "outputs": [],
   "source": [
    "# Horizontal bar chart\n",
    "plt.figure(figsize=(10, 6))\n",
    "goal_08_16.sort_values('pts', ascending=True).plot(\n",
    "    kind='barh', x='Team', y='pts', color='skyblue', legend=False\n",
    ")\n",
    "plt.title('Total Points by Team')\n",
    "plt.xlabel('Points')\n",
    "plt.ylabel('Team')\n",
    "plt.show()\n"
   ]
  },
  {
   "cell_type": "code",
   "execution_count": null,
   "metadata": {},
   "outputs": [],
   "source": [
    "# Add another column (e.g., number of matches)\n",
    "goal_08_16['matches'] = goal_08_16['pts'] // 3  # Assuming 3 pts per match\n",
    "\n",
    "plt.figure(figsize=(10, 6))\n",
    "plt.scatter(goal_08_16['Team'], goal_08_16['pts'], s=goal_08_16['matches'] * 20, alpha=0.6, edgecolors=\"w\")\n",
    "plt.title('Bubble Chart: Points vs Matches Played')\n",
    "plt.xlabel('Team')\n",
    "plt.ylabel('Points')\n",
    "plt.xticks(rotation=45)\n",
    "plt.show()\n"
   ]
  },
  {
   "cell_type": "code",
   "execution_count": null,
   "metadata": {},
   "outputs": [],
   "source": [
    "# Line chart for each league\n",
    "plt.figure(figsize=(10, 6))\n",
    "for league in goals_08_to_16['league_name'].unique():\n",
    "    league_data = goals_08_to_16[goals_08_to_16['league_name'] == league]\n",
    "    plt.plot(league_data['Team'], league_data['pts'], marker='o', label=league)\n",
    "\n",
    "plt.title('Points Trends Across Teams by League')\n",
    "plt.xlabel('Team')\n",
    "plt.ylabel('Points')\n",
    "plt.legend(title='League')\n",
    "plt.xticks(rotation=45)\n",
    "plt.show()\n"
   ]
  },
  {
   "cell_type": "code",
   "execution_count": null,
   "metadata": {},
   "outputs": [],
   "source": [
    "sns.catplot(data=goal_08_16, x='Team', y='pts', hue='season', kind='bar', height=6, aspect=1.5)\n",
    "plt.title('Total Points by Team and Season')\n",
    "plt.xlabel('Team')\n",
    "plt.ylabel('Points')\n",
    "plt.xticks(rotation=45)\n",
    "plt.show()\n"
   ]
  },
  {
   "cell_type": "code",
   "execution_count": null,
   "metadata": {},
   "outputs": [],
   "source": [
    "\n"
   ]
  },
  {
   "cell_type": "code",
   "execution_count": null,
   "metadata": {},
   "outputs": [],
   "source": [
    "goal_08_16 = (\n",
    "    melted_match\n",
    "    .query('season in [\"2015/2016\"]')  # Filter for the desired season\n",
    "    .groupby(['season', 'league_name', 'Team'])['pts']  # Group by season, league, and team\n",
    "    .sum()  # Sum the points for each team\n",
    "    .reset_index()  # Reset index to make the grouped columns part of the DataFrame\n",
    "    .sort_values(by='pts', ascending=False)  # Sort by points in descending order\n",
    ")\n",
    "\n",
    "goal_08_16\n"
   ]
  },
  {
   "cell_type": "code",
   "execution_count": null,
   "metadata": {},
   "outputs": [],
   "source": []
  },
  {
   "cell_type": "markdown",
   "metadata": {},
   "source": []
  },
  {
   "cell_type": "code",
   "execution_count": null,
   "metadata": {},
   "outputs": [],
   "source": [
    "melted_match"
   ]
  },
  {
   "cell_type": "markdown",
   "metadata": {},
   "source": []
  },
  {
   "cell_type": "code",
   "execution_count": null,
   "metadata": {},
   "outputs": [],
   "source": []
  },
  {
   "cell_type": "code",
   "execution_count": null,
   "metadata": {},
   "outputs": [],
   "source": []
  },
  {
   "cell_type": "code",
   "execution_count": null,
   "metadata": {},
   "outputs": [],
   "source": []
  },
  {
   "cell_type": "code",
   "execution_count": null,
   "metadata": {},
   "outputs": [],
   "source": []
  },
  {
   "cell_type": "code",
   "execution_count": null,
   "metadata": {},
   "outputs": [],
   "source": []
  },
  {
   "cell_type": "code",
   "execution_count": null,
   "metadata": {},
   "outputs": [],
   "source": []
  },
  {
   "cell_type": "code",
   "execution_count": null,
   "metadata": {},
   "outputs": [],
   "source": []
  },
  {
   "cell_type": "code",
   "execution_count": null,
   "metadata": {},
   "outputs": [],
   "source": []
  },
  {
   "cell_type": "code",
   "execution_count": null,
   "metadata": {},
   "outputs": [],
   "source": [
    "\n"
   ]
  },
  {
   "cell_type": "code",
   "execution_count": null,
   "metadata": {},
   "outputs": [],
   "source": [
    "\n",
    "\n",
    "\n",
    "# Plot each team's points across seasons\n",
    "plt.figure(figsize=(12, 6))\n",
    "for team in transposed_data.columns:\n",
    "    plt.plot(transposed_data, transposed_data[team], marker='o', label=team)\n",
    "\n",
    "# Customize the chart\n",
    "plt.title('Points by Teams Across Seasons', fontsize=16)\n",
    "plt.xlabel('Season', fontsize=12)\n",
    "plt.ylabel('Points', fontsize=12)\n",
    "plt.xticks(rotation=45)\n",
    "plt.legend(title='Teams', bbox_to_anchor=(1.05, 1), loc='upper left')\n",
    "plt.grid(axis='y', linestyle='--', alpha=0.7)\n",
    "\n",
    "# Show the plot\n",
    "plt.tight_layout()\n",
    "plt.show()\n",
    "\n"
   ]
  },
  {
   "cell_type": "code",
   "execution_count": null,
   "metadata": {},
   "outputs": [],
   "source": [
    "# plot a scatter diagram\n",
    "plot_visual(data=match_s08_15['2008/2009'], data2=match_s08_15['2015/2016'], visual_type='scatter')\n",
    "plt.title('SCATTER PLOT FOR SEASON 2008/2016 VS 2015/2016')\n",
    "plt.xlabel('Season 2008/2009')\n",
    "plt.ylabel('Season 2015/2016')"
   ]
  },
  {
   "cell_type": "markdown",
   "metadata": {},
   "source": [
    "From the scatter plot, there is positive correlation between the number of goals scored in the season 2008/2009 and season 2015/2016"
   ]
  },
  {
   "cell_type": "code",
   "execution_count": null,
   "metadata": {},
   "outputs": [],
   "source": [
    "# get difference between columns 2008/2009 and 2015/2016 seasons\n",
    "goal_diff=match_s08_15.dropna().diff(axis=1)\n",
    "goal_diff.head()"
   ]
  },
  {
   "cell_type": "code",
   "execution_count": 325,
   "metadata": {},
   "outputs": [],
   "source": [
    "# goal difference in 2015/2016 season\n",
    "goal_diff_16=goal_diff['2015/2016']\n",
    "goal_mean=goal_diff_16[goal_diff_16>(goal_diff_16.mean())].sort_values(ascending=True)"
   ]
  },
  {
   "cell_type": "code",
   "execution_count": null,
   "metadata": {},
   "outputs": [],
   "source": [
    "# plot bar graph for top 10 best teams\n",
    "plot_visual(data=goal_mean, data2='', visual_type='barh')\n",
    "plt.title('SEASON 2008/2009 AND 2015/2016 BAR GRAPH')\n",
    "plt.xlabel('No of goals scored in 2008/2009 and 2015/2015 season')\n",
    "plt.ylabel('Teams');"
   ]
  },
  {
   "cell_type": "markdown",
   "metadata": {},
   "source": [
    "From the graph, the top 3 most improved teams are Paris Saint_Germain, Napoli and Cracovia in that order"
   ]
  },
  {
   "cell_type": "markdown",
   "metadata": {},
   "source": [
    "### Research Question 2  Which players had the most penalties?"
   ]
  },
  {
   "cell_type": "markdown",
   "metadata": {},
   "source": [
    "I want to filter and obtain the player who scored most of the penalties"
   ]
  },
  {
   "cell_type": "code",
   "execution_count": null,
   "metadata": {},
   "outputs": [],
   "source": [
    "# obtaining the name of the player\n",
    "most_pen=player_info.query('penalties ==penalties.max()')\n",
    "\n",
    "# creating dataframe for the player who had most penalties, avoiding duplicate name\n",
    "most_pen.drop_duplicates(subset=\"player_api_id\")\n",
    "\n",
    "# printing \n",
    "most_pen"
   ]
  },
  {
   "cell_type": "markdown",
   "metadata": {},
   "source": [
    "The table shows that the player that scored most of the penalties is Richie Lambert"
   ]
  },
  {
   "cell_type": "markdown",
   "metadata": {},
   "source": [
    "### Research Question 3  Which was the the most preferred leg for penalty-takers in 2016 among the players who scored more than the mean penalties in that year?"
   ]
  },
  {
   "cell_type": "markdown",
   "metadata": {},
   "source": [
    "Getting present in 2016"
   ]
  },
  {
   "cell_type": "code",
   "execution_count": null,
   "metadata": {},
   "outputs": [],
   "source": [
    "most_pen16=player_info.query('date>=\"2016.01.01\"')\n",
    "most_pen16"
   ]
  },
  {
   "cell_type": "code",
   "execution_count": null,
   "metadata": {},
   "outputs": [],
   "source": [
    "# get the players who had penalties more than the mean penalties\n",
    "pen_mean=most_pen16[most_pen16.penalties>most_pen16.penalties.mean()]\n",
    "pen_mean.drop(['date'], axis=1)"
   ]
  },
  {
   "cell_type": "code",
   "execution_count": null,
   "metadata": {},
   "outputs": [],
   "source": [
    "# droping duplicates interms of player_api_id\n",
    "pen_mean.drop_duplicates(subset=['player_api_id'])"
   ]
  },
  {
   "cell_type": "code",
   "execution_count": null,
   "metadata": {},
   "outputs": [],
   "source": [
    "# creating a pie chart for the preffered leg\n",
    "p=pen_mean['preferred_foot'].value_counts()\n",
    "p.plot('pie', figsize=[6,6])\n",
    "plt.title(\"PIE CHART FOR PREFfERRED LEG\");"
   ]
  },
  {
   "cell_type": "markdown",
   "metadata": {},
   "source": [
    "From the pie chart, most penalty takers in the year 2016 preffered right leg than left"
   ]
  },
  {
   "cell_type": "markdown",
   "metadata": {},
   "source": [
    "<a id='conclusions'></a>\n",
    "## Limitations\n",
    "The soccer database is a very extensive data. In, seeking to address the three questions in the description, I was able to show only the correltaion between the number of goals scored in the two season. However, the other seasons were not considered.The data base had a lot of unprocessed  html files under certain columns, which made take a lot of time thinking on how well they can be used in the analysis. In addition, the data had a lot of missing and duplicate values. Identifying such inconsistencies, wss realy time consuming.\n",
    "\n",
    "Another limitation is that in the creation of bar graph for the most improved teams, the bars are not sorted in order of either increasing or decreasing frequency, which would have enabled the identification of the improved teams easily. In getting the most preffered leg, it was only based on the year 2016 instead of the whole duration of time."
   ]
  },
  {
   "cell_type": "markdown",
   "metadata": {},
   "source": [
    "## Conclusions\n",
    "The soccer database has five datasets, league, country, player, player attribute, team and team attribute. It is a detailed dabase for European major leagues covering several seasons from 2008/2009 t0 2015/2016. \n",
    "\n",
    "The project seeks to answer three questions, what teams improved the most over the time period, which players had the most penalties and which was the the most preferred leg for penalty-takers in 2016 among the players who scored more than the mean penalties in that year?\n",
    "\n",
    "In attempting to find solutions to the question, each dataset was examineed for inconsistencies, colomn names, corrected, missing values replace or droped in certain datasets before they were finally merged and cleaned. Visual presentations created and inteprated.\n",
    "\n",
    "From the analysis and visualization, Richie Lambert is the player who scored most of the penalties. I also found that Paris Saint-Germain is the most improved team over the period of time given, followed by Napoli and Cracovia being the in the third position. Moreover, the findings also indicate that most of the penalty takers in 2016 preferred right leg compared to the right leg. The findings also shows that the distribution of the number of goals scored in the two seasons are right skewed.\n",
    "\n",
    "Whereas I was able to show that there is a correltaion between the number of goals scored in the two extreme seasons (2008/2009 and 2015/2016), theer are  other seasons that were not considered. There is likelihood that a team that improved between the two seasons might not have improved in the seasons prior 2015/2016. Goal difference between the two seasons was used as a measured of improvement in performance because the ultimate objective of team managers, players and teams is to improve to score goals, but there could be criteria for measuring performance."
   ]
  },
  {
   "cell_type": "code",
   "execution_count": 89,
   "metadata": {},
   "outputs": [],
   "source": [
    "#from subprocess import call\n",
    "#call(['python', '-m', 'nbconvert', 'Investigate_a_Dataset.ipynb'])"
   ]
  },
  {
   "cell_type": "code",
   "execution_count": null,
   "metadata": {},
   "outputs": [],
   "source": []
  }
 ],
 "metadata": {
  "kernelspec": {
   "display_name": "base",
   "language": "python",
   "name": "python3"
  },
  "language_info": {
   "codemirror_mode": {
    "name": "ipython",
    "version": 3
   },
   "file_extension": ".py",
   "mimetype": "text/x-python",
   "name": "python",
   "nbconvert_exporter": "python",
   "pygments_lexer": "ipython3",
   "version": "3.9.12"
  }
 },
 "nbformat": 4,
 "nbformat_minor": 2
}
